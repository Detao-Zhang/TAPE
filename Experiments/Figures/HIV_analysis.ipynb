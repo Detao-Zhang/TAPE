{
 "cells": [
  {
   "cell_type": "code",
   "execution_count": 1,
   "id": "3958c6bf",
   "metadata": {},
   "outputs": [],
   "source": [
    "import numpy as np\n",
    "import pandas as pd\n",
    "from scipy import stats\n",
    "from sklearn.preprocessing import MinMaxScaler\n",
    "import matplotlib.pyplot as plt\n",
    "import matplotlib.colors as colors # Coloring\n",
    "import seaborn as sns"
   ]
  },
  {
   "cell_type": "code",
   "execution_count": 2,
   "id": "6a3bf5e1",
   "metadata": {},
   "outputs": [
    {
     "ename": "FileNotFoundError",
     "evalue": "[Errno 2] No such file or directory: 'pbmc_preds.csv'",
     "output_type": "error",
     "traceback": [
      "\u001b[0;31m---------------------------------------------------------------------------\u001b[0m",
      "\u001b[0;31mFileNotFoundError\u001b[0m                         Traceback (most recent call last)",
      "\u001b[0;32m<ipython-input-2-732a2d55a591>\u001b[0m in \u001b[0;36m<module>\u001b[0;34m\u001b[0m\n\u001b[0;32m----> 1\u001b[0;31m \u001b[0mmetadata\u001b[0m \u001b[0;34m=\u001b[0m \u001b[0mpd\u001b[0m\u001b[0;34m.\u001b[0m\u001b[0mread_csv\u001b[0m\u001b[0;34m(\u001b[0m\u001b[0;34m'pbmc_preds.csv'\u001b[0m\u001b[0;34m,\u001b[0m\u001b[0mindex_col\u001b[0m\u001b[0;34m=\u001b[0m\u001b[0;36m0\u001b[0m\u001b[0;34m)\u001b[0m\u001b[0;34m\u001b[0m\u001b[0;34m\u001b[0m\u001b[0m\n\u001b[0m\u001b[1;32m      2\u001b[0m \u001b[0mmetadata\u001b[0m \u001b[0;34m=\u001b[0m \u001b[0mmetadata\u001b[0m\u001b[0;34m.\u001b[0m\u001b[0mloc\u001b[0m\u001b[0;34m[\u001b[0m\u001b[0mmetadata\u001b[0m\u001b[0;34m[\u001b[0m\u001b[0;34m'virus'\u001b[0m\u001b[0;34m]\u001b[0m\u001b[0;34m==\u001b[0m\u001b[0;34m'HIV'\u001b[0m\u001b[0;34m]\u001b[0m\u001b[0;34m\u001b[0m\u001b[0;34m\u001b[0m\u001b[0m\n\u001b[1;32m      3\u001b[0m \u001b[0mBNab\u001b[0m \u001b[0;34m=\u001b[0m \u001b[0mmetadata\u001b[0m\u001b[0;34m.\u001b[0m\u001b[0mloc\u001b[0m\u001b[0;34m[\u001b[0m\u001b[0mmetadata\u001b[0m\u001b[0;34m[\u001b[0m\u001b[0;34m'Condition'\u001b[0m\u001b[0;34m]\u001b[0m\u001b[0;34m==\u001b[0m\u001b[0;34m'BNab'\u001b[0m\u001b[0;34m]\u001b[0m\u001b[0;34m.\u001b[0m\u001b[0mindex\u001b[0m\u001b[0;34m\u001b[0m\u001b[0;34m\u001b[0m\u001b[0m\n\u001b[1;32m      4\u001b[0m \u001b[0mCont\u001b[0m \u001b[0;34m=\u001b[0m \u001b[0mmetadata\u001b[0m\u001b[0;34m.\u001b[0m\u001b[0mloc\u001b[0m\u001b[0;34m[\u001b[0m\u001b[0mmetadata\u001b[0m\u001b[0;34m[\u001b[0m\u001b[0;34m'Condition'\u001b[0m\u001b[0;34m]\u001b[0m\u001b[0;34m==\u001b[0m\u001b[0;34m'control'\u001b[0m\u001b[0;34m]\u001b[0m\u001b[0;34m.\u001b[0m\u001b[0mindex\u001b[0m\u001b[0;34m\u001b[0m\u001b[0;34m\u001b[0m\u001b[0m\n",
      "\u001b[0;32m~/opt/anaconda3/envs/pytorch/lib/python3.7/site-packages/pandas/util/_decorators.py\u001b[0m in \u001b[0;36mwrapper\u001b[0;34m(*args, **kwargs)\u001b[0m\n\u001b[1;32m    309\u001b[0m                     \u001b[0mstacklevel\u001b[0m\u001b[0;34m=\u001b[0m\u001b[0mstacklevel\u001b[0m\u001b[0;34m,\u001b[0m\u001b[0;34m\u001b[0m\u001b[0;34m\u001b[0m\u001b[0m\n\u001b[1;32m    310\u001b[0m                 )\n\u001b[0;32m--> 311\u001b[0;31m             \u001b[0;32mreturn\u001b[0m \u001b[0mfunc\u001b[0m\u001b[0;34m(\u001b[0m\u001b[0;34m*\u001b[0m\u001b[0margs\u001b[0m\u001b[0;34m,\u001b[0m \u001b[0;34m**\u001b[0m\u001b[0mkwargs\u001b[0m\u001b[0;34m)\u001b[0m\u001b[0;34m\u001b[0m\u001b[0;34m\u001b[0m\u001b[0m\n\u001b[0m\u001b[1;32m    312\u001b[0m \u001b[0;34m\u001b[0m\u001b[0m\n\u001b[1;32m    313\u001b[0m         \u001b[0;32mreturn\u001b[0m \u001b[0mwrapper\u001b[0m\u001b[0;34m\u001b[0m\u001b[0;34m\u001b[0m\u001b[0m\n",
      "\u001b[0;32m~/opt/anaconda3/envs/pytorch/lib/python3.7/site-packages/pandas/io/parsers/readers.py\u001b[0m in \u001b[0;36mread_csv\u001b[0;34m(filepath_or_buffer, sep, delimiter, header, names, index_col, usecols, squeeze, prefix, mangle_dupe_cols, dtype, engine, converters, true_values, false_values, skipinitialspace, skiprows, skipfooter, nrows, na_values, keep_default_na, na_filter, verbose, skip_blank_lines, parse_dates, infer_datetime_format, keep_date_col, date_parser, dayfirst, cache_dates, iterator, chunksize, compression, thousands, decimal, lineterminator, quotechar, quoting, doublequote, escapechar, comment, encoding, encoding_errors, dialect, error_bad_lines, warn_bad_lines, on_bad_lines, delim_whitespace, low_memory, memory_map, float_precision, storage_options)\u001b[0m\n\u001b[1;32m    584\u001b[0m     \u001b[0mkwds\u001b[0m\u001b[0;34m.\u001b[0m\u001b[0mupdate\u001b[0m\u001b[0;34m(\u001b[0m\u001b[0mkwds_defaults\u001b[0m\u001b[0;34m)\u001b[0m\u001b[0;34m\u001b[0m\u001b[0;34m\u001b[0m\u001b[0m\n\u001b[1;32m    585\u001b[0m \u001b[0;34m\u001b[0m\u001b[0m\n\u001b[0;32m--> 586\u001b[0;31m     \u001b[0;32mreturn\u001b[0m \u001b[0m_read\u001b[0m\u001b[0;34m(\u001b[0m\u001b[0mfilepath_or_buffer\u001b[0m\u001b[0;34m,\u001b[0m \u001b[0mkwds\u001b[0m\u001b[0;34m)\u001b[0m\u001b[0;34m\u001b[0m\u001b[0;34m\u001b[0m\u001b[0m\n\u001b[0m\u001b[1;32m    587\u001b[0m \u001b[0;34m\u001b[0m\u001b[0m\n\u001b[1;32m    588\u001b[0m \u001b[0;34m\u001b[0m\u001b[0m\n",
      "\u001b[0;32m~/opt/anaconda3/envs/pytorch/lib/python3.7/site-packages/pandas/io/parsers/readers.py\u001b[0m in \u001b[0;36m_read\u001b[0;34m(filepath_or_buffer, kwds)\u001b[0m\n\u001b[1;32m    480\u001b[0m \u001b[0;34m\u001b[0m\u001b[0m\n\u001b[1;32m    481\u001b[0m     \u001b[0;31m# Create the parser.\u001b[0m\u001b[0;34m\u001b[0m\u001b[0;34m\u001b[0m\u001b[0;34m\u001b[0m\u001b[0m\n\u001b[0;32m--> 482\u001b[0;31m     \u001b[0mparser\u001b[0m \u001b[0;34m=\u001b[0m \u001b[0mTextFileReader\u001b[0m\u001b[0;34m(\u001b[0m\u001b[0mfilepath_or_buffer\u001b[0m\u001b[0;34m,\u001b[0m \u001b[0;34m**\u001b[0m\u001b[0mkwds\u001b[0m\u001b[0;34m)\u001b[0m\u001b[0;34m\u001b[0m\u001b[0;34m\u001b[0m\u001b[0m\n\u001b[0m\u001b[1;32m    483\u001b[0m \u001b[0;34m\u001b[0m\u001b[0m\n\u001b[1;32m    484\u001b[0m     \u001b[0;32mif\u001b[0m \u001b[0mchunksize\u001b[0m \u001b[0;32mor\u001b[0m \u001b[0miterator\u001b[0m\u001b[0;34m:\u001b[0m\u001b[0;34m\u001b[0m\u001b[0;34m\u001b[0m\u001b[0m\n",
      "\u001b[0;32m~/opt/anaconda3/envs/pytorch/lib/python3.7/site-packages/pandas/io/parsers/readers.py\u001b[0m in \u001b[0;36m__init__\u001b[0;34m(self, f, engine, **kwds)\u001b[0m\n\u001b[1;32m    809\u001b[0m             \u001b[0mself\u001b[0m\u001b[0;34m.\u001b[0m\u001b[0moptions\u001b[0m\u001b[0;34m[\u001b[0m\u001b[0;34m\"has_index_names\"\u001b[0m\u001b[0;34m]\u001b[0m \u001b[0;34m=\u001b[0m \u001b[0mkwds\u001b[0m\u001b[0;34m[\u001b[0m\u001b[0;34m\"has_index_names\"\u001b[0m\u001b[0;34m]\u001b[0m\u001b[0;34m\u001b[0m\u001b[0;34m\u001b[0m\u001b[0m\n\u001b[1;32m    810\u001b[0m \u001b[0;34m\u001b[0m\u001b[0m\n\u001b[0;32m--> 811\u001b[0;31m         \u001b[0mself\u001b[0m\u001b[0;34m.\u001b[0m\u001b[0m_engine\u001b[0m \u001b[0;34m=\u001b[0m \u001b[0mself\u001b[0m\u001b[0;34m.\u001b[0m\u001b[0m_make_engine\u001b[0m\u001b[0;34m(\u001b[0m\u001b[0mself\u001b[0m\u001b[0;34m.\u001b[0m\u001b[0mengine\u001b[0m\u001b[0;34m)\u001b[0m\u001b[0;34m\u001b[0m\u001b[0;34m\u001b[0m\u001b[0m\n\u001b[0m\u001b[1;32m    812\u001b[0m \u001b[0;34m\u001b[0m\u001b[0m\n\u001b[1;32m    813\u001b[0m     \u001b[0;32mdef\u001b[0m \u001b[0mclose\u001b[0m\u001b[0;34m(\u001b[0m\u001b[0mself\u001b[0m\u001b[0;34m)\u001b[0m\u001b[0;34m:\u001b[0m\u001b[0;34m\u001b[0m\u001b[0;34m\u001b[0m\u001b[0m\n",
      "\u001b[0;32m~/opt/anaconda3/envs/pytorch/lib/python3.7/site-packages/pandas/io/parsers/readers.py\u001b[0m in \u001b[0;36m_make_engine\u001b[0;34m(self, engine)\u001b[0m\n\u001b[1;32m   1038\u001b[0m             )\n\u001b[1;32m   1039\u001b[0m         \u001b[0;31m# error: Too many arguments for \"ParserBase\"\u001b[0m\u001b[0;34m\u001b[0m\u001b[0;34m\u001b[0m\u001b[0;34m\u001b[0m\u001b[0m\n\u001b[0;32m-> 1040\u001b[0;31m         \u001b[0;32mreturn\u001b[0m \u001b[0mmapping\u001b[0m\u001b[0;34m[\u001b[0m\u001b[0mengine\u001b[0m\u001b[0;34m]\u001b[0m\u001b[0;34m(\u001b[0m\u001b[0mself\u001b[0m\u001b[0;34m.\u001b[0m\u001b[0mf\u001b[0m\u001b[0;34m,\u001b[0m \u001b[0;34m**\u001b[0m\u001b[0mself\u001b[0m\u001b[0;34m.\u001b[0m\u001b[0moptions\u001b[0m\u001b[0;34m)\u001b[0m  \u001b[0;31m# type: ignore[call-arg]\u001b[0m\u001b[0;34m\u001b[0m\u001b[0;34m\u001b[0m\u001b[0m\n\u001b[0m\u001b[1;32m   1041\u001b[0m \u001b[0;34m\u001b[0m\u001b[0m\n\u001b[1;32m   1042\u001b[0m     \u001b[0;32mdef\u001b[0m \u001b[0m_failover_to_python\u001b[0m\u001b[0;34m(\u001b[0m\u001b[0mself\u001b[0m\u001b[0;34m)\u001b[0m\u001b[0;34m:\u001b[0m\u001b[0;34m\u001b[0m\u001b[0;34m\u001b[0m\u001b[0m\n",
      "\u001b[0;32m~/opt/anaconda3/envs/pytorch/lib/python3.7/site-packages/pandas/io/parsers/c_parser_wrapper.py\u001b[0m in \u001b[0;36m__init__\u001b[0;34m(self, src, **kwds)\u001b[0m\n\u001b[1;32m     49\u001b[0m \u001b[0;34m\u001b[0m\u001b[0m\n\u001b[1;32m     50\u001b[0m         \u001b[0;31m# open handles\u001b[0m\u001b[0;34m\u001b[0m\u001b[0;34m\u001b[0m\u001b[0;34m\u001b[0m\u001b[0m\n\u001b[0;32m---> 51\u001b[0;31m         \u001b[0mself\u001b[0m\u001b[0;34m.\u001b[0m\u001b[0m_open_handles\u001b[0m\u001b[0;34m(\u001b[0m\u001b[0msrc\u001b[0m\u001b[0;34m,\u001b[0m \u001b[0mkwds\u001b[0m\u001b[0;34m)\u001b[0m\u001b[0;34m\u001b[0m\u001b[0;34m\u001b[0m\u001b[0m\n\u001b[0m\u001b[1;32m     52\u001b[0m         \u001b[0;32massert\u001b[0m \u001b[0mself\u001b[0m\u001b[0;34m.\u001b[0m\u001b[0mhandles\u001b[0m \u001b[0;32mis\u001b[0m \u001b[0;32mnot\u001b[0m \u001b[0;32mNone\u001b[0m\u001b[0;34m\u001b[0m\u001b[0;34m\u001b[0m\u001b[0m\n\u001b[1;32m     53\u001b[0m \u001b[0;34m\u001b[0m\u001b[0m\n",
      "\u001b[0;32m~/opt/anaconda3/envs/pytorch/lib/python3.7/site-packages/pandas/io/parsers/base_parser.py\u001b[0m in \u001b[0;36m_open_handles\u001b[0;34m(self, src, kwds)\u001b[0m\n\u001b[1;32m    227\u001b[0m             \u001b[0mmemory_map\u001b[0m\u001b[0;34m=\u001b[0m\u001b[0mkwds\u001b[0m\u001b[0;34m.\u001b[0m\u001b[0mget\u001b[0m\u001b[0;34m(\u001b[0m\u001b[0;34m\"memory_map\"\u001b[0m\u001b[0;34m,\u001b[0m \u001b[0;32mFalse\u001b[0m\u001b[0;34m)\u001b[0m\u001b[0;34m,\u001b[0m\u001b[0;34m\u001b[0m\u001b[0;34m\u001b[0m\u001b[0m\n\u001b[1;32m    228\u001b[0m             \u001b[0mstorage_options\u001b[0m\u001b[0;34m=\u001b[0m\u001b[0mkwds\u001b[0m\u001b[0;34m.\u001b[0m\u001b[0mget\u001b[0m\u001b[0;34m(\u001b[0m\u001b[0;34m\"storage_options\"\u001b[0m\u001b[0;34m,\u001b[0m \u001b[0;32mNone\u001b[0m\u001b[0;34m)\u001b[0m\u001b[0;34m,\u001b[0m\u001b[0;34m\u001b[0m\u001b[0;34m\u001b[0m\u001b[0m\n\u001b[0;32m--> 229\u001b[0;31m             \u001b[0merrors\u001b[0m\u001b[0;34m=\u001b[0m\u001b[0mkwds\u001b[0m\u001b[0;34m.\u001b[0m\u001b[0mget\u001b[0m\u001b[0;34m(\u001b[0m\u001b[0;34m\"encoding_errors\"\u001b[0m\u001b[0;34m,\u001b[0m \u001b[0;34m\"strict\"\u001b[0m\u001b[0;34m)\u001b[0m\u001b[0;34m,\u001b[0m\u001b[0;34m\u001b[0m\u001b[0;34m\u001b[0m\u001b[0m\n\u001b[0m\u001b[1;32m    230\u001b[0m         )\n\u001b[1;32m    231\u001b[0m \u001b[0;34m\u001b[0m\u001b[0m\n",
      "\u001b[0;32m~/opt/anaconda3/envs/pytorch/lib/python3.7/site-packages/pandas/io/common.py\u001b[0m in \u001b[0;36mget_handle\u001b[0;34m(path_or_buf, mode, encoding, compression, memory_map, is_text, errors, storage_options)\u001b[0m\n\u001b[1;32m    705\u001b[0m                 \u001b[0mencoding\u001b[0m\u001b[0;34m=\u001b[0m\u001b[0mioargs\u001b[0m\u001b[0;34m.\u001b[0m\u001b[0mencoding\u001b[0m\u001b[0;34m,\u001b[0m\u001b[0;34m\u001b[0m\u001b[0;34m\u001b[0m\u001b[0m\n\u001b[1;32m    706\u001b[0m                 \u001b[0merrors\u001b[0m\u001b[0;34m=\u001b[0m\u001b[0merrors\u001b[0m\u001b[0;34m,\u001b[0m\u001b[0;34m\u001b[0m\u001b[0;34m\u001b[0m\u001b[0m\n\u001b[0;32m--> 707\u001b[0;31m                 \u001b[0mnewline\u001b[0m\u001b[0;34m=\u001b[0m\u001b[0;34m\"\"\u001b[0m\u001b[0;34m,\u001b[0m\u001b[0;34m\u001b[0m\u001b[0;34m\u001b[0m\u001b[0m\n\u001b[0m\u001b[1;32m    708\u001b[0m             )\n\u001b[1;32m    709\u001b[0m         \u001b[0;32melse\u001b[0m\u001b[0;34m:\u001b[0m\u001b[0;34m\u001b[0m\u001b[0;34m\u001b[0m\u001b[0m\n",
      "\u001b[0;31mFileNotFoundError\u001b[0m: [Errno 2] No such file or directory: 'pbmc_preds.csv'"
     ]
    }
   ],
   "source": [
    "metadata = pd.read_csv('pbmc_preds.csv',index_col=0)\n",
    "metadata = metadata.loc[metadata['virus']=='HIV']\n",
    "BNab = metadata.loc[metadata['Condition']=='BNab'].index\n",
    "Cont = metadata.loc[metadata['Condition']=='control'].index"
   ]
  },
  {
   "cell_type": "code",
   "execution_count": null,
   "id": "9eba6b02",
   "metadata": {},
   "outputs": [],
   "source": [
    "NK = pd.read_csv('HIV_NK_sigm.txt',sep='\\t',index_col=0)\n",
    "Monocytes = pd.read_csv('HIV_Monocytes_sigm.txt',sep='\\t',index_col=0)\n",
    "CD4T = pd.read_csv('HIV_CD4Tcells_sigm.txt',sep='\\t',index_col=0)\n",
    "CD8T = pd.read_csv('HIV_CD8Tcells_sigm.txt',sep='\\t',index_col=0)\n",
    "Bcell = pd.read_csv('HIV_Bcells_sigm.txt',sep='\\t',index_col=0)\n",
    "Den = pd.read_csv('HIV_Dendritics_sigm.txt',sep='\\t',index_col=0)\n",
    "HIV = pd.read_csv('HIV_pbmc_tpm.csv',sep=',',index_col=0)\n",
    "samplename = HIV.columns\n",
    "genename = HIV.index"
   ]
  },
  {
   "cell_type": "code",
   "execution_count": null,
   "id": "093218e0",
   "metadata": {},
   "outputs": [],
   "source": [
    "HIV = HIV.values\n",
    "HIV = np.log2(HIV+1)\n",
    "# mms = MinMaxScaler()\n",
    "# HIV = mms.fit_transform(HIV)\n",
    "HIV = pd.DataFrame(HIV,columns=samplename,index=genename).T"
   ]
  },
  {
   "cell_type": "code",
   "execution_count": null,
   "id": "916832b9",
   "metadata": {},
   "outputs": [],
   "source": [
    "def fdr(p_vals):\n",
    "\n",
    "    from scipy.stats import rankdata\n",
    "    ranked_p_values = rankdata(p_vals)\n",
    "    fdr = p_vals * len(p_vals) / ranked_p_values\n",
    "    fdr[fdr > 1] = 1\n",
    "\n",
    "    return fdr\n",
    "def volcano_data(data, groupA, groupB):\n",
    "    A = data[groupA]\n",
    "    B = data[groupB]\n",
    "    genes = data.index\n",
    "    volcano = np.zeros((len(genes),2))\n",
    "\n",
    "    for i,gene in enumerate(genes):\n",
    "        A_gene = np.array(A.loc[gene])\n",
    "        B_gene = np.array(B.loc[gene])\n",
    "        volcano[i,0] = (stats.ttest_ind(A_gene,B_gene)[1])\n",
    "        volcano[i,1] = np.log(A_gene.mean()/B_gene.mean())\n",
    "    volcano[:,0] = -np.log10(fdr(volcano[:,0]))\n",
    "    volcano = pd.DataFrame(volcano, columns=['-Log10 q-value','Log Fold change'], index=genes)\n",
    "    return volcano\n",
    "def volcano_plot(data, fc_threshold, p_threshold):\n",
    "    data.columns = ['y','x']\n",
    "    data['group'] = 'black'\n",
    "    data.loc[(data.x > fc_threshold)&(data.y > p_threshold),'group'] = 'tab:red'\n",
    "    data.loc[(data.x < -fc_threshold)&(data.y > p_threshold),'group'] = 'tab:blue'\n",
    "    data.loc[data.y < p_threshold,'group'] = 'dimgrey' #阈值以下点为灰色\n",
    "    xmin = -8\n",
    "    xmax = 8\n",
    "    ymin = 0\n",
    "    ymax = 8\n",
    "    #绘制散点图\n",
    "    sns.set()\n",
    "    fig = plt.figure(figsize=(6,7),dpi=300) \n",
    "    ax = fig.add_subplot()\n",
    "    ax.set(xlim=(xmin, xmax), ylim=(ymin, ymax), title='')\n",
    "    ax.scatter(data['x'], data['y'], s=2, c=data['group'])\n",
    "    ax.scatter(data.loc['RAB11FIP5']['x'], data.loc['RAB11FIP5']['y'], c='green', marker='D')\n",
    "    ax.spines['right'].set_visible(False) #去掉右边框\n",
    "    ax.spines['top'].set_visible(False) #去掉上边框\n",
    "\n",
    "    #水平和竖直线\n",
    "    ax.vlines(-fc_threshold, ymin, ymax, color='dimgrey',linestyle='dashed', linewidth=1) #画竖直线\n",
    "    ax.vlines(fc_threshold, ymin, ymax, color='dimgrey',linestyle='dashed', linewidth=1) #画竖直线\n",
    "    ax.hlines(p_threshold, xmin, xmax, color='dimgrey',linestyle='dashed', linewidth=1) #画竖水平线\n",
    "\n",
    "    ax.set_xticks(range(xmin,xmax,2)) #设置x轴刻度起点和步长\n",
    "    ax.set_yticks(range(ymin,ymax,1)) #设置y轴刻度起点和步长\n",
    "    plt.xlabel('Log Fold Change')\n",
    "    plt.ylabel('-Log10 q-value')\n",
    "    plt.show()"
   ]
  },
  {
   "cell_type": "code",
   "execution_count": null,
   "id": "79414af6",
   "metadata": {},
   "outputs": [],
   "source": []
  },
  {
   "cell_type": "code",
   "execution_count": null,
   "id": "203383d7",
   "metadata": {
    "scrolled": false
   },
   "outputs": [],
   "source": [
    "HIV_volcano = volcano_data(HIV, BNab, Cont)\n",
    "volcano_plot(HIV_volcano, 1, 2)\n",
    "print(HIV_volcano.loc['RAB11FIP5'])\n",
    "\n",
    "\n",
    "NK_volcano = volcano_data(NK, BNab, Cont)\n",
    "volcano_plot(NK_volcano, 1, 2)\n",
    "print(NK_volcano.loc['RAB11FIP5'])\n",
    "\n",
    "\n",
    "Bcell_volcano = volcano_data(Bcell, BNab, Cont)\n",
    "volcano_plot(Bcell_volcano, 1, 2)\n",
    "print(Bcell_volcano.loc['RAB11FIP5'])\n",
    "\n",
    "\n",
    "Den_volcano = volcano_data(Den, BNab, Cont)\n",
    "# volcano_plot(Den_volcano, 1, 2)\n",
    "print(Den_volcano.loc['RAB11FIP5'])\n",
    "\n",
    "\n",
    "CD4T_volcano = volcano_data(CD4T, BNab, Cont)\n",
    "# volcano_plot(CD4T_volcano, 1, 2)\n",
    "print(CD4T_volcano.loc['RAB11FIP5'])\n",
    "\n",
    "\n",
    "CD8T_volcano = volcano_data(CD8T, BNab, Cont)\n",
    "# volcano_plot(CD8T_volcano, 1, 2)\n",
    "print(CD8T_volcano.loc['RAB11FIP5'])\n",
    "\n",
    "\n",
    "Mon_volcano = volcano_data(Monocytes, BNab, Cont)\n",
    "# volcano_plot(Mon_volcano, 1, 2)\n",
    "print(Mon_volcano.loc['RAB11FIP5'])\n",
    "#volcano_plot(HIV_volcano,1,2)"
   ]
  },
  {
   "cell_type": "code",
   "execution_count": null,
   "id": "0adb0ba6",
   "metadata": {},
   "outputs": [],
   "source": [
    "# volcano_plot(NK_volcano,1,2)"
   ]
  },
  {
   "cell_type": "code",
   "execution_count": null,
   "id": "4006c0f2",
   "metadata": {},
   "outputs": [],
   "source": [
    "df = pd.concat((Bcell.loc['RAB11FIP5'],CD4T.loc['RAB11FIP5'],\n",
    "                CD8T.loc['RAB11FIP5'],Den.loc['RAB11FIP5'],\n",
    "                Monocytes.loc['RAB11FIP5'],NK.loc['RAB11FIP5']))\n",
    "df = pd.DataFrame(df.values, columns=['Expression Value'],index=df.index)"
   ]
  },
  {
   "cell_type": "code",
   "execution_count": null,
   "id": "3eddcf49",
   "metadata": {},
   "outputs": [],
   "source": [
    "Type = []\n",
    "for x in df.index:\n",
    "    if x in BNab:\n",
    "        Type.append('BNab')\n",
    "    elif x in Cont:\n",
    "        Type.append('control')\n",
    "Cell = ['Bcell' for i in range(92)]+ \\\n",
    "       ['CD4Tcell' for i in range(92)]+ \\\n",
    "       ['CD8Tcell' for i in range(92)]+ \\\n",
    "       ['Dendritics' for i in range(92)]+ \\\n",
    "       ['Monocyte' for i in range(92)]+ \\\n",
    "       ['NK' for i in range(92)]"
   ]
  },
  {
   "cell_type": "code",
   "execution_count": null,
   "id": "babbcf67",
   "metadata": {},
   "outputs": [],
   "source": [
    "df['Type'] = Type\n",
    "df['Cell Type'] = Cell"
   ]
  },
  {
   "cell_type": "code",
   "execution_count": null,
   "id": "35151969",
   "metadata": {},
   "outputs": [],
   "source": [
    "plt.figure(dpi=300)\n",
    "ax = sns.boxplot(x=\"Cell Type\", y=\"Expression Value\", hue=\"Type\",hue_order=['control','BNab'],data=df, palette=\"Set3\", dodge=True)\n",
    "#plt.ylim(0.,1)\n",
    "plt.xticks(rotation=70)\n",
    "plt.xlabel('')\n",
    "plt.show()"
   ]
  },
  {
   "cell_type": "code",
   "execution_count": null,
   "id": "d1a7cfd3",
   "metadata": {},
   "outputs": [],
   "source": []
  }
 ],
 "metadata": {
  "kernelspec": {
   "display_name": "Python 3",
   "language": "python",
   "name": "python3"
  },
  "language_info": {
   "codemirror_mode": {
    "name": "ipython",
    "version": 3
   },
   "file_extension": ".py",
   "mimetype": "text/x-python",
   "name": "python",
   "nbconvert_exporter": "python",
   "pygments_lexer": "ipython3",
   "version": "3.7.10"
  }
 },
 "nbformat": 4,
 "nbformat_minor": 5
}
