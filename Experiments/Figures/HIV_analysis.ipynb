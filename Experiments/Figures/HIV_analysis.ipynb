{
 "cells": [
  {
   "cell_type": "code",
   "execution_count": 1,
   "id": "3958c6bf",
   "metadata": {},
   "outputs": [],
   "source": [
    "import numpy as np\n",
    "import pandas as pd\n",
    "from scipy import stats\n",
    "from sklearn.preprocessing import MinMaxScaler\n",
    "import matplotlib.pyplot as plt\n",
    "import matplotlib.colors as colors # Coloring\n",
    "import seaborn as sns"
   ]
  },
  {
   "cell_type": "code",
   "execution_count": 2,
   "id": "916832b9",
   "metadata": {},
   "outputs": [],
   "source": [
    "def fdr(p_vals):\n",
    "\n",
    "    from scipy.stats import rankdata\n",
    "    ranked_p_values = rankdata(p_vals)\n",
    "    fdr = p_vals * len(p_vals) / ranked_p_values\n",
    "    fdr[fdr > 1] = 1\n",
    "    return fdr\n",
    "\n",
    "def volcano_data(data, groupA, groupB):\n",
    "    A = data[groupA]\n",
    "    B = data[groupB]\n",
    "    genes = data.index\n",
    "    volcano = np.zeros((len(genes),2))\n",
    "\n",
    "    for i,gene in enumerate(genes):\n",
    "        A_gene = np.array(A.loc[gene])\n",
    "        B_gene = np.array(B.loc[gene])\n",
    "        volcano[i,0] = (stats.ttest_ind(A_gene,B_gene)[1])\n",
    "        volcano[i,1] = np.log2(A_gene.mean()/B_gene.mean())\n",
    "    qval = fdr(volcano[:,0])\n",
    "    volcano[:,0] = -np.log10(qval)\n",
    "    volcano = pd.DataFrame(volcano, columns=['-Log10 q-value','Log2 fold change'], index=genes)\n",
    "    return volcano\n",
    "\n",
    "def volcano_plot(data, fc_threshold, p_threshold,name=None):\n",
    "    data.columns = ['y','x']\n",
    "    data['group'] = 'black'\n",
    "    data.loc[(data.x > fc_threshold)&(data.y > p_threshold),'group'] = 'tab:red'\n",
    "    data.loc[(data.x < -fc_threshold)&(data.y > p_threshold),'group'] = 'tab:blue'\n",
    "    data.loc[data.y < p_threshold,'group'] = 'dimgrey' #阈值以下点为灰色\n",
    "    xmin = -8\n",
    "    xmax = 8\n",
    "    ymin = 0\n",
    "    ymax = 8\n",
    "    #绘制散点图\n",
    "    fig = plt.figure(figsize=(3,4)) \n",
    "    ax = fig.add_subplot()\n",
    "    ax.set(xlim=(xmin, xmax), ylim=(ymin, ymax), title='')\n",
    "    ax.scatter(data['x'], data['y'], s=2, c=data['group'])\n",
    "    ax.scatter(data.loc['RAB11FIP5']['x'], data.loc['RAB11FIP5']['y'], c='orange', marker='*')\n",
    "#     ax.scatter(data.loc['NOP2']['x'], data.loc['NOP2']['y'], c='grey', marker='D')\n",
    "    ax.spines['right'].set_visible(False) #去掉右边框\n",
    "    ax.spines['top'].set_visible(False) #去掉上边框\n",
    "\n",
    "    #水平和竖直线\n",
    "    ax.vlines(-fc_threshold, ymin, ymax, color='dimgrey',linestyle='dashed', linewidth=1) #画竖直线\n",
    "    ax.vlines(fc_threshold, ymin, ymax, color='dimgrey',linestyle='dashed', linewidth=1) #画竖直线\n",
    "    ax.hlines(p_threshold, xmin, xmax, color='dimgrey',linestyle='dashed', linewidth=1) #画竖水平线\n",
    "\n",
    "    ax.set_xticks(range(xmin,xmax,2)) #设置x轴刻度起点和步长\n",
    "    ax.set_yticks(range(ymin,ymax,1)) #设置y轴刻度起点和步长\n",
    "    plt.xlabel('Log2 Fold Change')\n",
    "    plt.ylabel('-Log10 q-value')\n",
    "    plt.tight_layout()\n",
    "    if name is not None:\n",
    "        plt.savefig(name+'_vocano.eps', format='eps', dpi=300)\n",
    "    plt.show()"
   ]
  },
  {
   "cell_type": "code",
   "execution_count": 3,
   "id": "6a3bf5e1",
   "metadata": {},
   "outputs": [],
   "source": [
    "metadata = pd.read_csv('pbmc_meta.csv',index_col=0)\n",
    "metadata = metadata.loc[metadata['virus']=='HIV']\n",
    "BNab = metadata.loc[metadata['Condition']=='BNab'].index\n",
    "Cont = metadata.loc[metadata['Condition']=='control'].index"
   ]
  },
  {
   "cell_type": "code",
   "execution_count": 4,
   "id": "970fdddf",
   "metadata": {},
   "outputs": [],
   "source": [
    "HIV_deseq = pd.read_csv('HIV_deseq2.csv',index_col=0)"
   ]
  },
  {
   "cell_type": "code",
   "execution_count": 5,
   "id": "f09f41ad",
   "metadata": {},
   "outputs": [],
   "source": [
    "HIV_deseq['-Log10 q-value'] = -np.log10(HIV_deseq['padj'])\n",
    "HIV_deseq['Log2 fold change'] = HIV_deseq['log2FoldChange']\n",
    "HIV_deseq.drop(['baseMean','log2FoldChange','lfcSE','stat','pvalue','padj'],axis=1,inplace=True)"
   ]
  },
  {
   "cell_type": "code",
   "execution_count": 6,
   "id": "36abcd08",
   "metadata": {},
   "outputs": [],
   "source": [
    "csx_NK = pd.read_csv(\"~/Desktop/Chan's Research/2021Summer Intern/MajorReview/CSx/HIV_highresolutionGEP_result/CIBERSORTxHiRes_Job13_NK_Window24.txt\",sep='\\t',index_col=0)"
   ]
  },
  {
   "cell_type": "code",
   "execution_count": 7,
   "id": "9eba6b02",
   "metadata": {},
   "outputs": [],
   "source": [
    "NK = pd.read_csv('HIV_NK_sigm.txt',sep='\\t',index_col=0)\n",
    "Monocytes = pd.read_csv('HIV_Monocytes_sigm.txt',sep='\\t',index_col=0)\n",
    "CD4T = pd.read_csv('HIV_CD4Tcells_sigm.txt',sep='\\t',index_col=0)\n",
    "CD8T = pd.read_csv('HIV_CD8Tcells_sigm.txt',sep='\\t',index_col=0)\n",
    "Bcell = pd.read_csv('HIV_Bcells_sigm.txt',sep='\\t',index_col=0)\n",
    "Den = pd.read_csv('HIV_Dendritics_sigm.txt',sep='\\t',index_col=0)\n",
    "HIV = pd.read_csv('HIV_pbmc.csv',sep=',',index_col=0).T\n",
    "samplename = HIV.columns\n",
    "genename = HIV.index"
   ]
  },
  {
   "cell_type": "code",
   "execution_count": 8,
   "id": "c545fc25",
   "metadata": {},
   "outputs": [],
   "source": [
    "DEGs_bulk = HIV_deseq.loc[HIV_deseq['-Log10 q-value'] > 2,:].index"
   ]
  },
  {
   "cell_type": "code",
   "execution_count": 9,
   "id": "4ff76604",
   "metadata": {},
   "outputs": [],
   "source": [
    "def detection(volcano, DEGs=DEGs_bulk):\n",
    "    genes = volcano.index.intersection(DEGs)\n",
    "    overlapping = []\n",
    "    for name in genes:\n",
    "        if volcano.loc[name]['-Log10 q-value'] > 1.3010:\n",
    "            overlapping.append(name)\n",
    "            print(name, volcano.loc[name]['-Log10 q-value'])\n",
    "    print(len(overlapping))"
   ]
  },
  {
   "cell_type": "code",
   "execution_count": 10,
   "id": "e2f5bf2d",
   "metadata": {},
   "outputs": [
    {
     "data": {
      "image/png": "[encoded data removed]",
      "text/plain": [
       "<Figure size 216x288 with 1 Axes>"
      ]
     },
     "metadata": {
      "needs_background": "light"
     },
     "output_type": "display_data"
    }
   ],
   "source": [
    "volcano_plot(HIV_deseq, 1, 2, name='HIV_deseq')"
   ]
  },
  {
   "cell_type": "code",
   "execution_count": 11,
   "id": "203383d7",
   "metadata": {
    "scrolled": false
   },
   "outputs": [
    {
     "name": "stdout",
     "output_type": "stream",
     "text": [
      "NK_Subsets\n"
     ]
    },
    {
     "name": "stderr",
     "output_type": "stream",
     "text": [
      "/Users/chan/opt/anaconda3/envs/pytorch/lib/python3.7/site-packages/ipykernel_launcher.py:19: RuntimeWarning: invalid value encountered in double_scalars\n",
      "/Users/chan/opt/anaconda3/envs/pytorch/lib/python3.7/site-packages/ipykernel_launcher.py:19: RuntimeWarning: divide by zero encountered in double_scalars\n",
      "/Users/chan/opt/anaconda3/envs/pytorch/lib/python3.7/site-packages/ipykernel_launcher.py:19: RuntimeWarning: divide by zero encountered in log2\n"
     ]
    },
    {
     "name": "stdout",
     "output_type": "stream",
     "text": [
      "RAB11FIP5 1.6035579709092302\n",
      "NOP2 1.5340047430049137\n",
      "2\n"
     ]
    },
    {
     "data": {
      "image/png": "[encoded data removed]",
      "text/plain": [
       "<Figure size 216x288 with 1 Axes>"
      ]
     },
     "metadata": {
      "needs_background": "light"
     },
     "output_type": "display_data"
    },
    {
     "name": "stdout",
     "output_type": "stream",
     "text": [
      "Bcell_Subsets\n",
      "0\n"
     ]
    },
    {
     "data": {
      "image/png": "[encoded data removed]",
      "text/plain": [
       "<Figure size 216x288 with 1 Axes>"
      ]
     },
     "metadata": {
      "needs_background": "light"
     },
     "output_type": "display_data"
    },
    {
     "name": "stdout",
     "output_type": "stream",
     "text": [
      "Dendritics_Subsets\n",
      "0\n"
     ]
    },
    {
     "data": {
      "image/png": "[encoded data removed]",
      "text/plain": [
       "<Figure size 216x288 with 1 Axes>"
      ]
     },
     "metadata": {
      "needs_background": "light"
     },
     "output_type": "display_data"
    },
    {
     "name": "stdout",
     "output_type": "stream",
     "text": [
      "CD4Tcell_Subsets\n",
      "0\n"
     ]
    },
    {
     "data": {
      "image/png": "[encoded data removed]",
      "text/plain": [
       "<Figure size 216x288 with 1 Axes>"
      ]
     },
     "metadata": {
      "needs_background": "light"
     },
     "output_type": "display_data"
    },
    {
     "name": "stdout",
     "output_type": "stream",
     "text": [
      "CD8Tcell_Subsets\n",
      "0\n"
     ]
    },
    {
     "data": {
      "image/png": "[encoded data removed]",
      "text/plain": [
       "<Figure size 216x288 with 1 Axes>"
      ]
     },
     "metadata": {
      "needs_background": "light"
     },
     "output_type": "display_data"
    },
    {
     "name": "stdout",
     "output_type": "stream",
     "text": [
      "Mono_Subsets\n",
      "0\n"
     ]
    },
    {
     "data": {
      "image/png": "[encoded data removed]",
      "text/plain": [
       "<Figure size 216x288 with 1 Axes>"
      ]
     },
     "metadata": {
      "needs_background": "light"
     },
     "output_type": "display_data"
    }
   ],
   "source": [
    "print('NK_Subsets')\n",
    "NK_volcano = volcano_data(NK, BNab, Cont)\n",
    "detection(NK_volcano)\n",
    "volcano_plot(NK_volcano, 1, 1.3010, 'TAPE_NK')\n",
    "\n",
    "print('Bcell_Subsets')\n",
    "Bcell_volcano = volcano_data(Bcell, BNab, Cont)\n",
    "detection(Bcell_volcano)\n",
    "volcano_plot(Bcell_volcano, 1, 1.3010, 'TAPE_Bcell')\n",
    "\n",
    "print('Dendritics_Subsets')\n",
    "Den_volcano = volcano_data(Den, BNab, Cont)\n",
    "detection(Den_volcano)\n",
    "volcano_plot(Den_volcano, 1, 1.3010, 'TAPE_Dendritics')\n",
    "\n",
    "print('CD4Tcell_Subsets')\n",
    "CD4T_volcano = volcano_data(CD4T, BNab, Cont)\n",
    "detection(CD4T_volcano)\n",
    "volcano_plot(CD4T_volcano, 1, 1.3010, 'TAPE_CD4Tcell')\n",
    "\n",
    "print('CD8Tcell_Subsets')\n",
    "CD8T_volcano = volcano_data(CD8T, BNab, Cont)\n",
    "detection(CD8T_volcano)\n",
    "volcano_plot(CD8T_volcano, 1, 1.3010, 'TAPE_CD8Tcell')\n",
    "\n",
    "print('Mono_Subsets')\n",
    "Mon_volcano = volcano_data(Monocytes, BNab, Cont)\n",
    "detection(Mon_volcano)\n",
    "volcano_plot(Mon_volcano, 1, 1.3010, 'TAPE_Monocyte')\n"
   ]
  },
  {
   "cell_type": "code",
   "execution_count": 12,
   "id": "f715dac4",
   "metadata": {},
   "outputs": [
    {
     "name": "stdout",
     "output_type": "stream",
     "text": [
      "PTMS 1.6706468765957747\n",
      "RAB11FIP5 3.380610720915184\n",
      "GALNT10 1.3202918403581017\n",
      "3\n"
     ]
    },
    {
     "data": {
      "image/png": "[encoded data removed]",
      "text/plain": [
       "<Figure size 216x288 with 1 Axes>"
      ]
     },
     "metadata": {
      "needs_background": "light"
     },
     "output_type": "display_data"
    }
   ],
   "source": [
    "csx_volcano = volcano_data(csx_NK, BNab, Cont)\n",
    "detection(csx_volcano)\n",
    "volcano_plot(csx_volcano, 1, 1.3010,'CSx_NK')"
   ]
  },
  {
   "cell_type": "code",
   "execution_count": 13,
   "id": "4006c0f2",
   "metadata": {},
   "outputs": [],
   "source": [
    "df = pd.concat((Bcell.loc['RAB11FIP5'],CD4T.loc['RAB11FIP5'],\n",
    "                CD8T.loc['RAB11FIP5'],Den.loc['RAB11FIP5'],\n",
    "                Monocytes.loc['RAB11FIP5'],NK.loc['RAB11FIP5']))\n",
    "df = pd.DataFrame(df.values, columns=['Expression Value'],index=df.index)"
   ]
  },
  {
   "cell_type": "code",
   "execution_count": 14,
   "id": "3eddcf49",
   "metadata": {},
   "outputs": [],
   "source": [
    "Type = []\n",
    "for x in df.index:\n",
    "    if x in BNab:\n",
    "        Type.append('BNab')\n",
    "    elif x in Cont:\n",
    "        Type.append('control')\n",
    "Cell = ['Bcell' for i in range(92)]+ \\\n",
    "       ['CD4Tcell' for i in range(92)]+ \\\n",
    "       ['CD8Tcell' for i in range(92)]+ \\\n",
    "       ['Dendritics' for i in range(92)]+ \\\n",
    "       ['Monocyte' for i in range(92)]+ \\\n",
    "       ['NK' for i in range(92)]"
   ]
  },
  {
   "cell_type": "code",
   "execution_count": 15,
   "id": "babbcf67",
   "metadata": {},
   "outputs": [],
   "source": [
    "df['Type'] = Type\n",
    "df['Cell Type'] = Cell"
   ]
  },
  {
   "cell_type": "code",
   "execution_count": 19,
   "id": "8058068e",
   "metadata": {},
   "outputs": [
    {
     "data": {
      "text/plain": [
       "(46, 3)"
      ]
     },
     "execution_count": 19,
     "metadata": {},
     "output_type": "execute_result"
    }
   ],
   "source": [
    "df[df['Cell Type'] == 'NK'][df[df['Cell Type'] == 'NK']['Type']=='BNab'].shape"
   ]
  },
  {
   "cell_type": "code",
   "execution_count": 16,
   "id": "35151969",
   "metadata": {
    "scrolled": false
   },
   "outputs": [
    {
     "name": "stderr",
     "output_type": "stream",
     "text": [
      "The PostScript backend does not support transparency; partially transparent artists will be rendered opaque.\n",
      "The PostScript backend does not support transparency; partially transparent artists will be rendered opaque.\n"
     ]
    },
    {
     "data": {
      "image/png": "[encoded data removed]",
      "text/plain": [
       "<Figure size 432x288 with 1 Axes>"
      ]
     },
     "metadata": {
      "needs_background": "light"
     },
     "output_type": "display_data"
    }
   ],
   "source": [
    "fig, ax = plt.subplots(figsize=(6,4))\n",
    "sns.boxplot(x=\"Cell Type\", y=\"Expression Value\", hue=\"Type\",hue_order=['control','BNab'],\n",
    "            data=df, palette={'control':sns.color_palette()[3],'BNab':sns.color_palette()[0]}, ax=ax,\n",
    "            fliersize=1,linewidth=1)\n",
    "ax.spines['top'].set_visible(False)\n",
    "ax.spines['right'].set_visible(False)\n",
    "plt.xticks(rotation=50)\n",
    "plt.tight_layout()\n",
    "fig.savefig('rab11fip5_hiv_tape.eps', format='eps', dpi=300)\n",
    "\n",
    "plt.show()"
   ]
  },
  {
   "cell_type": "code",
   "execution_count": 17,
   "id": "e7ce2803",
   "metadata": {},
   "outputs": [],
   "source": [
    "csx = csx_NK.loc['RAB11FIP5']\n",
    "Type = []\n",
    "for x in csx.index:\n",
    "    if x in BNab:\n",
    "        Type.append('BNab')\n",
    "    elif x in Cont:\n",
    "        Type.append('control')"
   ]
  },
  {
   "cell_type": "code",
   "execution_count": 18,
   "id": "e817b5eb",
   "metadata": {},
   "outputs": [],
   "source": [
    "csx = pd.DataFrame(csx)\n",
    "csx['Type'] = Type\n",
    "csx['CellType'] = 'NK'"
   ]
  },
  {
   "cell_type": "code",
   "execution_count": 19,
   "id": "8b5afd0b",
   "metadata": {},
   "outputs": [
    {
     "data": {
      "image/png": "[encoded data removed]",
      "text/plain": [
       "<Figure size 144x288 with 1 Axes>"
      ]
     },
     "metadata": {
      "needs_background": "light"
     },
     "output_type": "display_data"
    }
   ],
   "source": [
    "fig, ax = plt.subplots(figsize=(2,4))\n",
    "sns.boxplot(x='CellType',y=\"RAB11FIP5\", hue=\"Type\",hue_order=['control','BNab'],\n",
    "            data=csx, palette={'control':sns.color_palette()[3],'BNab':sns.color_palette()[0]}, ax=ax,\n",
    "            fliersize=1,linewidth=1)\n",
    "ax.spines['top'].set_visible(False)\n",
    "ax.spines['right'].set_visible(False)\n",
    "plt.xticks(rotation=50)\n",
    "ax.get_legend().remove()\n",
    "plt.tight_layout()\n",
    "\n",
    "fig.savefig('rab11fip5_hiv_csx.eps', format='eps', dpi=300)\n",
    "plt.show()"
   ]
  },
  {
   "cell_type": "code",
   "execution_count": null,
   "id": "bf9a8b3e",
   "metadata": {},
   "outputs": [],
   "source": []
  }
 ],
 "metadata": {
  "kernelspec": {
   "display_name": "Python 3",
   "language": "python",
   "name": "python3"
  },
  "language_info": {
   "codemirror_mode": {
    "name": "ipython",
    "version": 3
   },
   "file_extension": ".py",
   "mimetype": "text/x-python",
   "name": "python",
   "nbconvert_exporter": "python",
   "pygments_lexer": "ipython3",
   "version": "3.7.10"
  }
 },
 "nbformat": 4,
 "nbformat_minor": 5
}
