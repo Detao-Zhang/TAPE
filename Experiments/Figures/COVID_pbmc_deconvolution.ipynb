{
 "cells": [
  {
   "cell_type": "code",
   "execution_count": 1,
   "id": "de0bb545",
   "metadata": {},
   "outputs": [],
   "source": [
    "import pandas as pd\n",
    "import seaborn as sns\n",
    "import matplotlib.pyplot as plt\n",
    "from TAPE.deconvolution import ScadenDeconvolution, Deconvolution\n",
    "from TAPE.model import reproducibility"
   ]
  },
  {
   "cell_type": "code",
   "execution_count": 2,
   "id": "87476003",
   "metadata": {},
   "outputs": [],
   "source": [
    "test = pd.read_csv('../pbmc_covid.csv',index_col=0)"
   ]
  },
  {
   "cell_type": "code",
   "execution_count": 3,
   "id": "4c680e1a",
   "metadata": {},
   "outputs": [
    {
     "name": "stderr",
     "output_type": "stream",
     "text": [
      "Observation names are not unique. To make them unique, call `.obs_names_make_unique`.\n"
     ]
    }
   ],
   "source": [
    "import anndata\n",
    "data10k = anndata.read_h5ad('../TAPE/data10k.h5ad')\n",
    "data8k = anndata.read_h5ad('../TAPE/data8k.h5ad')\n",
    "data6k = anndata.read_h5ad('../TAPE/data6k.h5ad')\n",
    "traindata = anndata.concat([data10k, data8k, data6k])"
   ]
  },
  {
   "cell_type": "code",
   "execution_count": 8,
   "id": "7a0ceb85",
   "metadata": {},
   "outputs": [
    {
     "name": "stdout",
     "output_type": "stream",
     "text": [
      "Reading training data\n",
      "Reading is done\n",
      "Reading test data\n",
      "Reading test data is done\n",
      "Using counts data to train model\n",
      "Variance Cutoff\n",
      "Find intersected genes\n",
      "Intersected gene number is  10575\n",
      "Log2 & MinMax scale\n",
      "training data shape is  (5000, 10575) \n",
      "test data shape is  (38, 10575)\n",
      "Start training\n"
     ]
    },
    {
     "name": "stderr",
     "output_type": "stream",
     "text": [
      "100%|██████████| 128/128 [00:36<00:00,  3.50it/s]"
     ]
    },
    {
     "name": "stdout",
     "output_type": "stream",
     "text": [
      "Training is done\n",
      "prediction loss is:\n"
     ]
    },
    {
     "name": "stderr",
     "output_type": "stream",
     "text": [
      "\n"
     ]
    },
    {
     "data": {
      "image/png": "[encoded data removed]",
      "text/plain": [
       "<Figure size 432x288 with 1 Axes>"
      ]
     },
     "metadata": {},
     "output_type": "display_data"
    },
    {
     "name": "stdout",
     "output_type": "stream",
     "text": [
      "reconstruction loss is:\n"
     ]
    },
    {
     "data": {
      "image/png": "[encoded data removed]",
      "text/plain": [
       "<Figure size 432x288 with 1 Axes>"
      ]
     },
     "metadata": {},
     "output_type": "display_data"
    },
    {
     "name": "stdout",
     "output_type": "stream",
     "text": [
      "Notice that you are using parameters: mode=overall and adaptive=False\n",
      "Model is saved without defined name\n",
      "Predict cell fractions without adaptive training\n",
      "Prediction is done\n"
     ]
    }
   ],
   "source": [
    "_, tape_pred = Deconvolution(data8k, test, adaptive=False)"
   ]
  },
  {
   "cell_type": "code",
   "execution_count": 9,
   "id": "714854b1",
   "metadata": {},
   "outputs": [
    {
     "name": "stdout",
     "output_type": "stream",
     "text": [
      "Reading single-cell dataset, this may take 1 min\n",
      "Reading dataset is done\n",
      "Generating random cell fractions for each pseudo-bulk sample\n",
      "Generating cell frations is done\n",
      "Sampling cells to compose pseudo-bulk data\n"
     ]
    },
    {
     "name": "stderr",
     "output_type": "stream",
     "text": [
      "5000it [00:27, 180.79it/s]\n"
     ]
    },
    {
     "name": "stdout",
     "output_type": "stream",
     "text": [
      "Sampling is done\n",
      "Reading training data\n",
      "Reading is done\n",
      "Reading test data\n",
      "Reading test data is done\n",
      "Using counts data to train model\n",
      "Variance Cutoff\n",
      "Find intersected genes\n",
      "Intersected gene number is  10575\n",
      "Log2 & MinMax scale\n",
      "training data shape is  (5000, 10575) \n",
      "test data shape is  (38, 10575)\n",
      "train model256 now\n"
     ]
    },
    {
     "name": "stderr",
     "output_type": "stream",
     "text": [
      "100%|██████████| 128/128 [00:28<00:00,  4.43it/s]\n"
     ]
    },
    {
     "name": "stdout",
     "output_type": "stream",
     "text": [
      "train model512 now\n"
     ]
    },
    {
     "name": "stderr",
     "output_type": "stream",
     "text": [
      "100%|██████████| 128/128 [00:30<00:00,  4.15it/s]\n"
     ]
    },
    {
     "name": "stdout",
     "output_type": "stream",
     "text": [
      "train model1024 now\n"
     ]
    },
    {
     "name": "stderr",
     "output_type": "stream",
     "text": [
      "100%|██████████| 128/128 [00:34<00:00,  3.67it/s]"
     ]
    },
    {
     "name": "stdout",
     "output_type": "stream",
     "text": [
      "Training of Scaden is done\n"
     ]
    },
    {
     "name": "stderr",
     "output_type": "stream",
     "text": [
      "\n"
     ]
    }
   ],
   "source": [
    "scaden_pred = ScadenDeconvolution('../ref/data8k_ref.txt', test)"
   ]
  },
  {
   "cell_type": "code",
   "execution_count": 9,
   "id": "8452ddd9",
   "metadata": {},
   "outputs": [],
   "source": [
    "tape_pred.to_csv('COVIDpbmcpred_tape.csv')"
   ]
  },
  {
   "cell_type": "code",
   "execution_count": 10,
   "id": "24cb5685",
   "metadata": {},
   "outputs": [],
   "source": [
    "scaden_pred.to_csv('COVIDpbmcpred_scaden.csv')"
   ]
  },
  {
   "cell_type": "code",
   "execution_count": null,
   "id": "9596acdb",
   "metadata": {},
   "outputs": [],
   "source": []
  }
 ],
 "metadata": {
  "kernelspec": {
   "display_name": "Python 3",
   "language": "python",
   "name": "python3"
  },
  "language_info": {
   "codemirror_mode": {
    "name": "ipython",
    "version": 3
   },
   "file_extension": ".py",
   "mimetype": "text/x-python",
   "name": "python",
   "nbconvert_exporter": "python",
   "pygments_lexer": "ipython3",
   "version": "3.7.10"
  }
 },
 "nbformat": 4,
 "nbformat_minor": 5
}
