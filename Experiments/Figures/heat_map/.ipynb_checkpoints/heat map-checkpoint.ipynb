{
 "cells": [
  {
   "cell_type": "code",
   "execution_count": 1,
   "id": "bfd3adc1",
   "metadata": {},
   "outputs": [
    {
     "ename": "ModuleNotFoundError",
     "evalue": "No module named 'palettable'",
     "output_type": "error",
     "traceback": [
      "\u001b[0;31m---------------------------------------------------------------------------\u001b[0m",
      "\u001b[0;31mModuleNotFoundError\u001b[0m                       Traceback (most recent call last)",
      "\u001b[0;32m<ipython-input-1-f8f5cdf12fdf>\u001b[0m in \u001b[0;36m<module>\u001b[0;34m\u001b[0m\n\u001b[1;32m      4\u001b[0m \u001b[0;32mfrom\u001b[0m \u001b[0mpandas\u001b[0m \u001b[0;32mimport\u001b[0m \u001b[0mSeries\u001b[0m\u001b[0;34m,\u001b[0m\u001b[0mDataFrame\u001b[0m\u001b[0;34m\u001b[0m\u001b[0;34m\u001b[0m\u001b[0m\n\u001b[1;32m      5\u001b[0m \u001b[0;32mimport\u001b[0m \u001b[0mseaborn\u001b[0m \u001b[0;32mas\u001b[0m \u001b[0msns\u001b[0m\u001b[0;34m\u001b[0m\u001b[0;34m\u001b[0m\u001b[0m\n\u001b[0;32m----> 6\u001b[0;31m \u001b[0;32mimport\u001b[0m \u001b[0mpalettable\u001b[0m\u001b[0;31m#python颜色库\u001b[0m\u001b[0;34m\u001b[0m\u001b[0;34m\u001b[0m\u001b[0m\n\u001b[0m\u001b[1;32m      7\u001b[0m \u001b[0;32mfrom\u001b[0m \u001b[0msklearn\u001b[0m \u001b[0;32mimport\u001b[0m \u001b[0mdatasets\u001b[0m\u001b[0;34m\u001b[0m\u001b[0;34m\u001b[0m\u001b[0m\n",
      "\u001b[0;31mModuleNotFoundError\u001b[0m: No module named 'palettable'"
     ]
    }
   ],
   "source": [
    "import matplotlib.pyplot as plt\n",
    "import numpy as np\n",
    "import pandas as pd\n",
    "from pandas import Series,DataFrame\n",
    "import seaborn as sns\n",
    "import palettable#python颜色库\n",
    "from sklearn import datasets "
   ]
  },
  {
   "cell_type": "code",
   "execution_count": null,
   "id": "14a2287d",
   "metadata": {},
   "outputs": [],
   "source": [
    "ccc_real = pd.read_excel('ccc_real.xlsx',index_col=0)\n",
    "ccc_pseudo = pd.read_excel('ccc_pseudo.xlsx',index_col=0)\n",
    "mea_real = pd.read_excel('mea_real.xlsx',index_col=0)\n",
    "mea_pseudo = pd.read_excel('mea_pseudo.xlsx',index_col=0)\n",
    "plt.clf()\n",
    "plt.figure(dpi=120,figsize=(8,6))\n",
    "\n",
    "\n",
    "plt.subplot(2,2,1)\n",
    "sns.heatmap(data=ccc_real,#矩阵数据集，数据的index和columns分别为heatmap的y轴方向和x轴方向标签\n",
    "            vmin=-0.5,#图例（右侧颜色条color bar）中最小显示值 \n",
    "            vmax=1,#图例（右侧颜色条color bar）中最大显示值\n",
    "            cmap=plt.get_cmap('tab20b'),#使用matplotlib中的颜色盘\n",
    "#             cmap=sns.cubehelix_palette(as_cmap=True),#渐变色盘：sns.cubehelix_palette()使用\n",
    "            annot=True,#默认为False，当为True时，在每个格子写入data中数据\n",
    "            fmt=\".2f\",#设置每个格子中数据的格式，参考之前的文章，此处保留两位小数\n",
    "            mask=ccc_real<-0.5,#热图中显示部分数据：显示数值小于6的数据 \n",
    "#             xticklabels=['三连啊','关注公众号啊','pythonic生物人','收藏啊','点赞啊','老铁三连三连'] , #x轴方向刻度标签开关、赋值，可选“auto”, bool, list-like（传入列表）, or int,\n",
    "#             yticklabels=True, #y轴方向刻度标签开关、同x轴\n",
    "            cbar=False,#右侧图例(color bar)开关，默认为True显示\n",
    "           )\n",
    "plt.title('CCC_real')\n",
    "\n",
    "plt.subplot(2,2,2)\n",
    "sns.heatmap(data=ccc_pseudo,#矩阵数据集，数据的index和columns分别为heatmap的y轴方向和x轴方向标签\n",
    "            vmin=-0.5,#图例（右侧颜色条color bar）中最小显示值 \n",
    "            vmax=1,#图例（右侧颜色条color bar）中最大显示值\n",
    "            cmap=plt.get_cmap('tab20b'),#使用matplotlib中的颜色盘\n",
    "#             cmap=sns.cubehelix_palette(as_cmap=True),#渐变色盘：sns.cubehelix_palette()使用\n",
    "            annot=True,#默认为False，当为True时，在每个格子写入data中数据\n",
    "            fmt=\".2f\",#设置每个格子中数据的格式，参考之前的文章，此处保留两位小数\n",
    "            mask=ccc_real<-0.5,#热图中显示部分数据：显示数值小于6的数据 \n",
    "#             xticklabels=['三连啊','关注公众号啊','pythonic生物人','收藏啊','点赞啊','老铁三连三连'] , #x轴方向刻度标签开关、赋值，可选“auto”, bool, list-like（传入列表）, or int,\n",
    "#             yticklabels=True, #y轴方向刻度标签开关、同x轴\n",
    "           )\n",
    "\n",
    "plt.title('CCC_pseudo')\n",
    "\n",
    "plt.subplot(2,2,3)\n",
    "sns.heatmap(data=mea_real,#矩阵数据集，数据的index和columns分别为heatmap的y轴方向和x轴方向标签\n",
    "            vmin=-0.5,#图例（右侧颜色条color bar）中最小显示值 \n",
    "            vmax=1,#图例（右侧颜色条color bar）中最大显示值\n",
    "            cmap=plt.get_cmap('tab20b'),#使用matplotlib中的颜色盘\n",
    "\n",
    "            annot=True,\n",
    "            fmt=\".2f\",\n",
    "            mask=ccc_real<-0.5,\n",
    "\n",
    "            cbar=False,\n",
    "           )\n",
    "plt.title('MEA_real')\n",
    "\n",
    "plt.subplot(2,2,4)\n",
    "sns.heatmap(data=mea_pseudo,#矩阵数据集，数据的index和columns分别为heatmap的y轴方向和x轴方向标签\n",
    "            vmin=-0.5,#图例（右侧颜色条color bar）中最小显示值 \n",
    "            vmax=1,#图例（右侧颜色条color bar）中最大显示值\n",
    "            cmap=plt.get_cmap('tab20b'),#使用matplotlib中的颜色盘\n",
    "#             cmap=sns.cubehelix_palette(as_cmap=True),#渐变色盘：sns.cubehelix_palette()使用\n",
    "            annot=True,#默认为False，当为True时，在每个格子写入data中数据\n",
    "            fmt=\".2f\",#设置每个格子中数据的格式，参考之前的文章，此处保留两位小数\n",
    "            mask=ccc_real<-0.5,#热图中显示部分数据：显示数值小于6的数据 \n",
    "#             xticklabels=['三连啊','关注公众号啊','pythonic生物人','收藏啊','点赞啊','老铁三连三连'] , #x轴方向刻度标签开关、赋值，可选“auto”, bool, list-like（传入列表）, or int,\n",
    "#             yticklabels=True, #y轴方向刻度标签开关、同x轴\n",
    "           )\n",
    "\n",
    "plt.title('MEA_pseudo')"
   ]
  },
  {
   "cell_type": "code",
   "execution_count": null,
   "id": "11921555",
   "metadata": {},
   "outputs": [],
   "source": []
  }
 ],
 "metadata": {
  "kernelspec": {
   "display_name": "Python 3",
   "language": "python",
   "name": "python3"
  },
  "language_info": {
   "codemirror_mode": {
    "name": "ipython",
    "version": 3
   },
   "file_extension": ".py",
   "mimetype": "text/x-python",
   "name": "python",
   "nbconvert_exporter": "python",
   "pygments_lexer": "ipython3",
   "version": "3.7.10"
  }
 },
 "nbformat": 4,
 "nbformat_minor": 5
}
