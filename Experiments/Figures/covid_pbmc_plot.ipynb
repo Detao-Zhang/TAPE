{
 "cells": [
  {
   "cell_type": "code",
   "execution_count": 1,
   "id": "4928e482",
   "metadata": {},
   "outputs": [],
   "source": [
    "import sys\n",
    "import numpy as np\n",
    "import pandas as pd\n",
    "import seaborn as sns\n",
    "import matplotlib.pyplot as plt"
   ]
  },
  {
   "cell_type": "code",
   "execution_count": 2,
   "id": "78497a12",
   "metadata": {},
   "outputs": [],
   "source": [
    "clinical = pd.read_csv('GSE157859_clinicaldata.csv',index_col=0)"
   ]
  },
  {
   "cell_type": "code",
   "execution_count": 3,
   "id": "408a12f1",
   "metadata": {
    "scrolled": false
   },
   "outputs": [],
   "source": [
    "tape = pd.read_csv('COVIDpbmcpred_tape3.csv',index_col=0)\n",
    "scaden = pd.read_csv('COVIDpbmcpred_scaden.csv',index_col=0)\n",
    "csx = pd.read_csv('COVIDpbmc_csx.csv',index_col=0)\n",
    "music = pd.read_csv('COVIDpbmcpred_music.csv',index_col=0)\n",
    "rnasieve = pd.read_csv('COVIDpbmcpred_rnasieve.csv',index_col=0)\n",
    "dwls = pd.read_csv('COVIDpbmcpred_dwls.txt',index_col=0,sep='\\t')\n",
    "bisque = pd.read_csv('COVIDpbmcpred_bisque.csv',index_col=0).T\n",
    "\n",
    "rnasieve.index = tape.index\n",
    "dwls.index = tape.index\n",
    "celltypes = list(tape.columns)\n",
    "\n",
    "alldata = tape.join(clinical,on=tape.index)\n",
    "alldata['LMR'] = (alldata['Bcells']+alldata['CD4Tcells']+alldata['CD8Tcells'])/alldata['Monocytes']\n",
    "alldata['MLR'] = alldata['Monocytes']/(alldata['Bcells']+alldata['CD4Tcells']+alldata['CD8Tcells'])\n",
    "# Tstage_tape = alldata[alldata['Stage']=='T']\n",
    "Tstage_tape = alldata\n",
    "Tstage_tape['model'] = ['TAPE' for i in range(len(Tstage_tape))]\n",
    "\n",
    "\n",
    "alldata = scaden.join(clinical,on=scaden.index)\n",
    "alldata['LMR'] = (alldata['Bcells']+alldata['CD4Tcells']+alldata['CD8Tcells'])/alldata['Monocytes']\n",
    "alldata['MLR'] = alldata['Monocytes']/(alldata['Bcells']+alldata['CD4Tcells']+alldata['CD8Tcells'])\n",
    "# Tstage_scaden = alldata[alldata['Stage']=='T']\n",
    "Tstage_scaden = alldata\n",
    "Tstage_scaden['model'] = ['Scaden' for i in range(len(Tstage_scaden))]\n",
    "\n",
    "alldata = csx.join(clinical,on=csx.index)\n",
    "alldata['LMR'] = (alldata['Bcells']+alldata['CD4Tcells']+alldata['CD8Tcells'])/alldata['Monocytes']\n",
    "alldata['MLR'] = alldata['Monocytes']/(alldata['Bcells']+alldata['CD4Tcells']+alldata['CD8Tcells'])\n",
    "# Tstage_csx = alldata[alldata['Stage']=='T']\n",
    "Tstage_csx = alldata\n",
    "Tstage_csx['model'] = ['CIBERSORTx' for i in range(len(Tstage_csx))]\n",
    "Tstage_csx = Tstage_csx.drop(index=['lnc_25'])\n",
    "\n",
    "alldata = rnasieve.join(clinical,on=rnasieve.index)\n",
    "alldata['LMR'] = (alldata['Bcells']+alldata['CD4Tcells']+alldata['CD8Tcells'])/alldata['Monocytes']\n",
    "alldata['MLR'] = alldata['Monocytes']/(alldata['Bcells']+alldata['CD4Tcells']+alldata['CD8Tcells'])\n",
    "# Tstage_rnasieve = alldata[alldata['Stage']=='T']\n",
    "Tstage_rnasieve = alldata\n",
    "Tstage_rnasieve['model'] = ['RNAsieve' for i in range(len(Tstage_rnasieve))]\n",
    "\n",
    "alldata = dwls.join(clinical,on=dwls.index)\n",
    "alldata['LMR'] = (alldata['Bcells']+alldata['CD4Tcells']+alldata['CD8Tcells'])/alldata['Monocytes']\n",
    "alldata['MLR'] = alldata['Monocytes']/(alldata['Bcells']+alldata['CD4Tcells']+alldata['CD8Tcells'])\n",
    "# Tstage_dwls = alldata[alldata['Stage']=='T']\n",
    "Tstage_dwls = alldata\n",
    "Tstage_dwls['model'] = ['DWLS' for i in range(len(Tstage_dwls))]\n",
    "\n",
    "alldata = music.join(clinical,on=music.index)\n",
    "alldata['LMR'] = (alldata['Bcells']+alldata['CD4Tcells']+alldata['CD8Tcells'])/alldata['Monocytes']\n",
    "alldata['MLR'] = alldata['Monocytes']/(alldata['Bcells']+alldata['CD4Tcells']+alldata['CD8Tcells'])\n",
    "# Tstage_music = alldata[alldata['Stage']=='T']\n",
    "Tstage_music = alldata\n",
    "Tstage_music['model'] = ['MuSiC' for i in range(len(Tstage_music))]\n",
    "\n",
    "alldata = bisque.join(clinical,on=bisque.index)\n",
    "alldata['LMR'] = (alldata['Bcells']+alldata['CD4Tcells']+alldata['CD8Tcells'])/alldata['Monocytes']\n",
    "alldata['MLR'] = alldata['Monocytes']/(alldata['Bcells']+alldata['CD4Tcells']+alldata['CD8Tcells'])\n",
    "# Tstage_bisque = alldata[alldata['Stage']=='T']\n",
    "Tstage_bisque = alldata\n",
    "Tstage_bisque['model'] = ['Bisque' for i in range(len(Tstage_bisque))]\n",
    "\n",
    "Tstage = pd.concat([Tstage_tape,Tstage_scaden,Tstage_rnasieve,Tstage_csx,Tstage_dwls,Tstage_music,Tstage_bisque])"
   ]
  },
  {
   "cell_type": "code",
   "execution_count": 4,
   "id": "a59268f3",
   "metadata": {},
   "outputs": [],
   "source": [
    "# Tstage.to_csv('COVID_pbmc_data.csv')"
   ]
  },
  {
   "cell_type": "code",
   "execution_count": 5,
   "id": "791c49f0",
   "metadata": {
    "scrolled": true
   },
   "outputs": [],
   "source": [
    "# colors = sns.color_palette('colorblind',5)\n",
    "# fig,ax = plt.subplots(figsize=(6,4))\n",
    "# sns.lineplot(data=Tstage,x='Type',y='MLR',hue='model',ci=50,palette='colorblind')\n",
    "# ax.spines['top'].set_visible(False)\n",
    "# ax.spines['right'].set_visible(False)\n",
    "# plt.tight_layout()\n",
    "# plt.show()"
   ]
  },
  {
   "cell_type": "code",
   "execution_count": 6,
   "id": "2d7cf0d6",
   "metadata": {},
   "outputs": [
    {
     "name": "stderr",
     "output_type": "stream",
     "text": [
      "The PostScript backend does not support transparency; partially transparent artists will be rendered opaque.\n",
      "The PostScript backend does not support transparency; partially transparent artists will be rendered opaque.\n"
     ]
    },
    {
     "data": {
      "image/png": "[encoded data removed]",
      "text/plain": [
       "<Figure size 432x288 with 1 Axes>"
      ]
     },
     "metadata": {
      "needs_background": "light"
     },
     "output_type": "display_data"
    }
   ],
   "source": [
    "colors = sns.color_palette('colorblind',5)\n",
    "fig,ax = plt.subplots(figsize=(6,4))\n",
    "plt.ylim(0,2)\n",
    "sns.barplot(data=Tstage,x='model',y='MLR',hue='Type',ci=95,errwidth=0.5,errcolor='black',capsize=0.1,\n",
    "            hue_order = ['mild','moderate','serious'],\n",
    "            palette='Reds')\n",
    "ax.spines['top'].set_visible(False)\n",
    "ax.spines['right'].set_visible(False)\n",
    "plt.tight_layout()\n",
    "fig.savefig('MLR.eps',format='eps',dpi=300)\n",
    "plt.show()"
   ]
  },
  {
   "cell_type": "code",
   "execution_count": 16,
   "id": "c619ac0c",
   "metadata": {},
   "outputs": [],
   "source": [
    "tape = Tstage.loc[Tstage['model']=='Scaden',:]"
   ]
  },
  {
   "cell_type": "code",
   "execution_count": 17,
   "id": "a6360f56",
   "metadata": {},
   "outputs": [],
   "source": [
    "tape.to_csv('scaden_all_covidpbmc.csv')"
   ]
  },
  {
   "cell_type": "code",
   "execution_count": 10,
   "id": "9c6865d3",
   "metadata": {},
   "outputs": [],
   "source": [
    "mild = tape.loc[tape['Type']=='mild','MLR']\n",
    "moderate = tape.loc[tape['Type']=='moderate','MLR']\n",
    "serious = tape.loc[tape['Type']=='serious','MLR']"
   ]
  },
  {
   "cell_type": "code",
   "execution_count": 11,
   "id": "6c67fd07",
   "metadata": {},
   "outputs": [
    {
     "name": "stdout",
     "output_type": "stream",
     "text": [
      "0.5223116343995734 0.6196775974110061 0.6423665598331874\n"
     ]
    }
   ],
   "source": [
    "print(np.mean(mild),np.mean(moderate),np.mean(serious))"
   ]
  },
  {
   "cell_type": "code",
   "execution_count": null,
   "id": "8fb06785",
   "metadata": {},
   "outputs": [],
   "source": []
  },
  {
   "cell_type": "code",
   "execution_count": null,
   "id": "3d8dbdc7",
   "metadata": {},
   "outputs": [],
   "source": []
  }
 ],
 "metadata": {
  "kernelspec": {
   "display_name": "Python 3",
   "language": "python",
   "name": "python3"
  },
  "language_info": {
   "codemirror_mode": {
    "name": "ipython",
    "version": 3
   },
   "file_extension": ".py",
   "mimetype": "text/x-python",
   "name": "python",
   "nbconvert_exporter": "python",
   "pygments_lexer": "ipython3",
   "version": "3.7.10"
  }
 },
 "nbformat": 4,
 "nbformat_minor": 5
}
