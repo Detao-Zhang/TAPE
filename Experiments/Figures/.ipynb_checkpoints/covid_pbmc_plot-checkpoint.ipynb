{
 "cells": [
  {
   "cell_type": "code",
   "execution_count": 1,
   "id": "4928e482",
   "metadata": {},
   "outputs": [],
   "source": [
    "import sys\n",
    "import numpy as np\n",
    "import pandas as pd\n",
    "import seaborn as sns\n",
    "import matplotlib.pyplot as plt"
   ]
  },
  {
   "cell_type": "code",
   "execution_count": 2,
   "id": "78497a12",
   "metadata": {},
   "outputs": [],
   "source": [
    "clinical = pd.read_csv('GSE157859_clinicaldata.csv',index_col=0)"
   ]
  },
  {
   "cell_type": "code",
   "execution_count": 3,
   "id": "408a12f1",
   "metadata": {},
   "outputs": [
    {
     "name": "stderr",
     "output_type": "stream",
     "text": [
      "/Users/chan/opt/anaconda3/envs/pytorch/lib/python3.7/site-packages/ipykernel_launcher.py:16: SettingWithCopyWarning: \n",
      "A value is trying to be set on a copy of a slice from a DataFrame.\n",
      "Try using .loc[row_indexer,col_indexer] = value instead\n",
      "\n",
      "See the caveats in the documentation: https://pandas.pydata.org/pandas-docs/stable/user_guide/indexing.html#returning-a-view-versus-a-copy\n",
      "  app.launch_new_instance()\n",
      "/Users/chan/opt/anaconda3/envs/pytorch/lib/python3.7/site-packages/ipykernel_launcher.py:23: SettingWithCopyWarning: \n",
      "A value is trying to be set on a copy of a slice from a DataFrame.\n",
      "Try using .loc[row_indexer,col_indexer] = value instead\n",
      "\n",
      "See the caveats in the documentation: https://pandas.pydata.org/pandas-docs/stable/user_guide/indexing.html#returning-a-view-versus-a-copy\n",
      "/Users/chan/opt/anaconda3/envs/pytorch/lib/python3.7/site-packages/ipykernel_launcher.py:29: SettingWithCopyWarning: \n",
      "A value is trying to be set on a copy of a slice from a DataFrame.\n",
      "Try using .loc[row_indexer,col_indexer] = value instead\n",
      "\n",
      "See the caveats in the documentation: https://pandas.pydata.org/pandas-docs/stable/user_guide/indexing.html#returning-a-view-versus-a-copy\n",
      "/Users/chan/opt/anaconda3/envs/pytorch/lib/python3.7/site-packages/ipykernel_launcher.py:36: SettingWithCopyWarning: \n",
      "A value is trying to be set on a copy of a slice from a DataFrame.\n",
      "Try using .loc[row_indexer,col_indexer] = value instead\n",
      "\n",
      "See the caveats in the documentation: https://pandas.pydata.org/pandas-docs/stable/user_guide/indexing.html#returning-a-view-versus-a-copy\n",
      "/Users/chan/opt/anaconda3/envs/pytorch/lib/python3.7/site-packages/ipykernel_launcher.py:42: SettingWithCopyWarning: \n",
      "A value is trying to be set on a copy of a slice from a DataFrame.\n",
      "Try using .loc[row_indexer,col_indexer] = value instead\n",
      "\n",
      "See the caveats in the documentation: https://pandas.pydata.org/pandas-docs/stable/user_guide/indexing.html#returning-a-view-versus-a-copy\n"
     ]
    }
   ],
   "source": [
    "tape = pd.read_csv('COVIDpbmcpred_tape.csv',index_col=0)\n",
    "scaden = pd.read_csv('COVIDpbmcpred_scaden.csv',index_col=0)\n",
    "csx = pd.read_csv('COVIDpbmcpred_csx.csv',index_col=0)\n",
    "rnasieve = pd.read_csv('COVIDpbmcpred_rnasieve.csv',index_col=0)\n",
    "dwls = pd.read_csv('COVIDpbmcpred_dwls.txt',index_col=0,sep='\\t')\n",
    "rnasieve.index = tape.index\n",
    "dwls.index = tape.index\n",
    "celltypes = list(tape.columns)\n",
    "tape.index = clinical.index\n",
    "\n",
    "\n",
    "alldata = tape.join(clinical)\n",
    "alldata['LMR'] = (alldata['Bcells']+alldata['CD4Tcells']+alldata['CD8Tcells'])/alldata['Monocytes']\n",
    "alldata['MLR'] = 1/alldata['LMR']\n",
    "Tstage_tape = alldata[alldata['Stage']=='T']\n",
    "Tstage_tape['model'] = ['TAPE' for i in range(len(Tstage_tape))]\n",
    "\n",
    "\n",
    "alldata = scaden.join(clinical)\n",
    "alldata['LMR'] = (alldata['Bcells']+alldata['CD4Tcells']+alldata['CD8Tcells'])/alldata['Monocytes']\n",
    "alldata['MLR'] = 1/alldata['LMR']\n",
    "Tstage_scaden = alldata[alldata['Stage']=='T']\n",
    "Tstage_scaden['model'] = ['Scaden' for i in range(len(Tstage_scaden))]\n",
    "\n",
    "alldata = csx.join(clinical)\n",
    "alldata['LMR'] = (alldata['Bcells']+alldata['CD4Tcells']+alldata['CD8Tcells'])/alldata['Monocytes']\n",
    "alldata['MLR'] = 1/alldata['LMR']\n",
    "Tstage_csx = alldata[alldata['Stage']=='T']\n",
    "Tstage_csx['model'] = ['CIBERSORTx' for i in range(len(Tstage_csx))]\n",
    "Tstage_csx = Tstage_csx.drop(index=['lnc_25'])\n",
    "\n",
    "alldata = rnasieve.join(clinical)\n",
    "alldata['LMR'] = (alldata['Bcells']+alldata['CD4Tcells']+alldata['CD8Tcells'])/alldata['Monocytes']\n",
    "alldata['MLR'] = 1/alldata['LMR']\n",
    "Tstage_rnasieve = alldata[alldata['Stage']=='T']\n",
    "Tstage_rnasieve['model'] = ['RNAsieve' for i in range(len(Tstage_rnasieve))]\n",
    "\n",
    "alldata = dwls.join(clinical)\n",
    "alldata['LMR'] = (alldata['Bcells']+alldata['CD4Tcells']+alldata['CD8Tcells'])/alldata['Monocytes']\n",
    "alldata['MLR'] = 1/alldata['LMR']\n",
    "Tstage_dwls = alldata[alldata['Stage']=='T']\n",
    "Tstage_dwls['model'] = ['DWLS' for i in range(len(Tstage_dwls))]\n",
    "\n",
    "Tstage = pd.concat([Tstage_tape,Tstage_scaden,Tstage_rnasieve,Tstage_csx,Tstage_dwls])"
   ]
  },
  {
   "cell_type": "code",
   "execution_count": 4,
   "id": "a59268f3",
   "metadata": {},
   "outputs": [],
   "source": [
    "# Tstage.to_csv('COVID_pbmc_data.csv')"
   ]
  },
  {
   "cell_type": "code",
   "execution_count": 5,
   "id": "791c49f0",
   "metadata": {
    "scrolled": true
   },
   "outputs": [],
   "source": [
    "# colors = sns.color_palette('colorblind',5)\n",
    "# fig,ax = plt.subplots(figsize=(6,4))\n",
    "# sns.lineplot(data=Tstage,x='Type',y='MLR',hue='model',ci=50,palette='colorblind')\n",
    "# ax.spines['top'].set_visible(False)\n",
    "# ax.spines['right'].set_visible(False)\n",
    "# plt.tight_layout()\n",
    "# plt.show()"
   ]
  },
  {
   "cell_type": "code",
   "execution_count": 8,
   "id": "2d7cf0d6",
   "metadata": {},
   "outputs": [
    {
     "data": {
      "image/png": "[encoded data removed]",
      "text/plain": [
       "<Figure size 432x288 with 1 Axes>"
      ]
     },
     "metadata": {
      "needs_background": "light"
     },
     "output_type": "display_data"
    }
   ],
   "source": [
    "colors = sns.color_palette('colorblind',5)\n",
    "fig,ax = plt.subplots(figsize=(6,4))\n",
    "sns.barplot(data=Tstage,x='model',y='MLR',hue='Type',ci=0,palette={})\n",
    "ax.spines['top'].set_visible(False)\n",
    "ax.spines['right'].set_visible(False)\n",
    "plt.tight_layout()\n",
    "plt.show()"
   ]
  },
  {
   "cell_type": "code",
   "execution_count": 7,
   "id": "c619ac0c",
   "metadata": {},
   "outputs": [],
   "source": [
    "fig.savefig('pbmc',dpi=200)"
   ]
  },
  {
   "cell_type": "code",
   "execution_count": null,
   "id": "cf0e6071",
   "metadata": {},
   "outputs": [],
   "source": []
  }
 ],
 "metadata": {
  "kernelspec": {
   "display_name": "Python 3",
   "language": "python",
   "name": "python3"
  },
  "language_info": {
   "codemirror_mode": {
    "name": "ipython",
    "version": 3
   },
   "file_extension": ".py",
   "mimetype": "text/x-python",
   "name": "python",
   "nbconvert_exporter": "python",
   "pygments_lexer": "ipython3",
   "version": "3.7.10"
  }
 },
 "nbformat": 4,
 "nbformat_minor": 5
}
