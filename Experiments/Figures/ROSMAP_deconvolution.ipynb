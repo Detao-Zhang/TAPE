{
 "cells": [
  {
   "cell_type": "code",
   "execution_count": 1,
   "id": "b2944022",
   "metadata": {},
   "outputs": [],
   "source": [
    "import pandas as pd\n",
    "import seaborn as sns\n",
    "import matplotlib.pyplot as plt\n",
    "from TAPE.deconvolution import ScadenDeconvolution, Deconvolution\n",
    "from TAPE.model import AutoEncoder"
   ]
  },
  {
   "cell_type": "code",
   "execution_count": 4,
   "id": "36271181",
   "metadata": {},
   "outputs": [],
   "source": [
    "model = AutoEncoder(10000,20)"
   ]
  },
  {
   "cell_type": "code",
   "execution_count": 5,
   "id": "66ca1fb8",
   "metadata": {},
   "outputs": [
    {
     "data": {
      "text/plain": [
       "TAPE.model.AutoEncoder"
      ]
     },
     "execution_count": 5,
     "metadata": {},
     "output_type": "execute_result"
    }
   ],
   "source": [
    "type(model)"
   ]
  },
  {
   "cell_type": "code",
   "execution_count": 2,
   "id": "cfae013a",
   "metadata": {},
   "outputs": [],
   "source": [
    "expr = pd.read_csv('../ROSMAP_lengthScaledTPM_counts.txt',sep='\\t',index_col=0)"
   ]
  },
  {
   "cell_type": "code",
   "execution_count": 3,
   "id": "f90d4887",
   "metadata": {},
   "outputs": [
    {
     "name": "stdout",
     "output_type": "stream",
     "text": [
      "Reading single-cell dataset, this may take 1 min\n",
      "Reading dataset is done\n",
      "Generating random cell fractions for each pseudo-bulk sample\n",
      "Generating cell frations is done\n",
      "Sampling cells to compose pseudo-bulk data\n"
     ]
    },
    {
     "name": "stderr",
     "output_type": "stream",
     "text": [
      "5000it [00:27, 182.20it/s]\n"
     ]
    },
    {
     "name": "stdout",
     "output_type": "stream",
     "text": [
      "Sampling is done\n",
      "Reading training data\n",
      "Reading is done\n",
      "Reading test data\n",
      "Reading test data is done\n",
      "Using counts data to train model\n",
      "Variance Cutoff\n",
      "Find intersected genes\n",
      "Intersected gene number is  11417\n",
      "Log2 & MinMax scale\n",
      "training data shape is  (5000, 11417) \n",
      "test data shape is  (639, 11417)\n",
      "Start training\n"
     ]
    },
    {
     "name": "stderr",
     "output_type": "stream",
     "text": [
      "100%|██████████| 128/128 [00:42<00:00,  3.00it/s]"
     ]
    },
    {
     "name": "stdout",
     "output_type": "stream",
     "text": [
      "Training is done\n",
      "prediction loss is:\n"
     ]
    },
    {
     "name": "stderr",
     "output_type": "stream",
     "text": [
      "\n"
     ]
    },
    {
     "data": {
      "image/png": "[encoded data removed]",
      "text/plain": [
       "<Figure size 432x288 with 1 Axes>"
      ]
     },
     "metadata": {},
     "output_type": "display_data"
    },
    {
     "name": "stdout",
     "output_type": "stream",
     "text": [
      "reconstruction loss is:\n"
     ]
    },
    {
     "data": {
      "image/png": "[encoded data removed]",
      "text/plain": [
       "<Figure size 432x288 with 1 Axes>"
      ]
     },
     "metadata": {},
     "output_type": "display_data"
    },
    {
     "name": "stdout",
     "output_type": "stream",
     "text": [
      "Notice that you are using parameters: mode=overall and adaptive=False\n",
      "Model is saved without defined name\n",
      "Predict cell fractions without adaptive training\n",
      "Prediction is done\n"
     ]
    }
   ],
   "source": [
    "_, tape_pred = Deconvolution('../ref/humanbrain_ref.txt', expr.T,adaptive=False)"
   ]
  },
  {
   "cell_type": "code",
   "execution_count": 4,
   "id": "e9810066",
   "metadata": {},
   "outputs": [
    {
     "name": "stdout",
     "output_type": "stream",
     "text": [
      "Reading single-cell dataset, this may take 1 min\n",
      "Reading dataset is done\n",
      "Generating random cell fractions for each pseudo-bulk sample\n",
      "Generating cell frations is done\n",
      "Sampling cells to compose pseudo-bulk data\n"
     ]
    },
    {
     "name": "stderr",
     "output_type": "stream",
     "text": [
      "5000it [00:25, 194.24it/s]\n"
     ]
    },
    {
     "name": "stdout",
     "output_type": "stream",
     "text": [
      "Sampling is done\n",
      "Reading training data\n",
      "Reading is done\n",
      "Reading test data\n",
      "Reading test data is done\n",
      "Using counts data to train model\n",
      "Variance Cutoff\n",
      "Find intersected genes\n",
      "Intersected gene number is  11417\n",
      "Log2 & MinMax scale\n",
      "training data shape is  (5000, 11417) \n",
      "test data shape is  (639, 11417)\n",
      "train model256 now\n"
     ]
    },
    {
     "name": "stderr",
     "output_type": "stream",
     "text": [
      "100%|██████████| 128/128 [00:33<00:00,  3.78it/s]\n"
     ]
    },
    {
     "name": "stdout",
     "output_type": "stream",
     "text": [
      "train model512 now\n"
     ]
    },
    {
     "name": "stderr",
     "output_type": "stream",
     "text": [
      "100%|██████████| 128/128 [00:35<00:00,  3.59it/s]\n"
     ]
    },
    {
     "name": "stdout",
     "output_type": "stream",
     "text": [
      "train model1024 now\n"
     ]
    },
    {
     "name": "stderr",
     "output_type": "stream",
     "text": [
      "100%|██████████| 128/128 [00:39<00:00,  3.23it/s]"
     ]
    },
    {
     "name": "stdout",
     "output_type": "stream",
     "text": [
      "Training of Scaden is done\n"
     ]
    },
    {
     "name": "stderr",
     "output_type": "stream",
     "text": [
      "\n"
     ]
    }
   ],
   "source": [
    "scaden_pred = ScadenDeconvolution('../ref/humanbrain_ref.txt', expr.T)"
   ]
  },
  {
   "cell_type": "code",
   "execution_count": 8,
   "id": "b1aaf930",
   "metadata": {},
   "outputs": [],
   "source": [
    "scaden_pred.to_csv('ROSMAPpred_scaden.csv')"
   ]
  },
  {
   "cell_type": "code",
   "execution_count": 9,
   "id": "f199dbbe",
   "metadata": {},
   "outputs": [],
   "source": [
    "tape_pred.to_csv('ROSMAPpred_tape.csv')"
   ]
  },
  {
   "cell_type": "code",
   "execution_count": null,
   "id": "79dbe2ad",
   "metadata": {},
   "outputs": [],
   "source": []
  }
 ],
 "metadata": {
  "kernelspec": {
   "display_name": "Python 3",
   "language": "python",
   "name": "python3"
  },
  "language_info": {
   "codemirror_mode": {
    "name": "ipython",
    "version": 3
   },
   "file_extension": ".py",
   "mimetype": "text/x-python",
   "name": "python",
   "nbconvert_exporter": "python",
   "pygments_lexer": "ipython3",
   "version": "3.7.10"
  }
 },
 "nbformat": 4,
 "nbformat_minor": 5
}
