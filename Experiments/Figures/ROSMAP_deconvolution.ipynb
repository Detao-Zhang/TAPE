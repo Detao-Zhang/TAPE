{
 "cells": [
  {
   "cell_type": "code",
   "execution_count": 2,
   "id": "b2944022",
   "metadata": {},
   "outputs": [],
   "source": [
    "import pandas as pd\n",
    "import seaborn as sns\n",
    "import matplotlib.pyplot as plt\n",
    "from TAPE.deconvolution import ScadenDeconvolution, Deconvolution\n",
    "from TAPE.model import AutoEncoder"
   ]
  },
  {
   "cell_type": "code",
   "execution_count": 3,
   "id": "cfae013a",
   "metadata": {},
   "outputs": [],
   "source": [
    "expr = pd.read_csv('/Users/chan/Desktop/pythonProject/ROSMAP/ROSMAP_lengthScaledTPM_counts.txt',\n",
    "                   sep='\\t',index_col=0)"
   ]
  },
  {
   "cell_type": "code",
   "execution_count": 4,
   "id": "f90d4887",
   "metadata": {},
   "outputs": [
    {
     "name": "stdout",
     "output_type": "stream",
     "text": [
      "Reading training data\n",
      "Reading is done\n",
      "Reading test data\n",
      "Reading test data is done\n",
      "Using counts data to train model\n",
      "Variance Cutoff\n",
      "Find intersected genes\n",
      "Intersected gene number is  11417\n",
      "Log2 & MinMax scale\n"
     ]
    },
    {
     "name": "stderr",
     "output_type": "stream",
     "text": [
      "\r",
      "  0%|          | 0/128 [00:00<?, ?it/s]"
     ]
    },
    {
     "name": "stdout",
     "output_type": "stream",
     "text": [
      "training data shape is  (2000, 11417) \n",
      "test data shape is  (639, 11417)\n",
      "Start training\n"
     ]
    },
    {
     "name": "stderr",
     "output_type": "stream",
     "text": [
      "100%|██████████| 128/128 [03:43<00:00,  1.75s/it]\n"
     ]
    },
    {
     "name": "stdout",
     "output_type": "stream",
     "text": [
      "Training is done\n",
      "prediction loss is:\n"
     ]
    },
    {
     "data": {
      "image/png": "[encoded data removed]",
      "text/plain": [
       "<Figure size 432x288 with 1 Axes>"
      ]
     },
     "metadata": {},
     "output_type": "display_data"
    },
    {
     "name": "stdout",
     "output_type": "stream",
     "text": [
      "reconstruction loss is:\n"
     ]
    },
    {
     "data": {
      "image/png": "[encoded data removed]",
      "text/plain": [
       "<Figure size 432x288 with 1 Axes>"
      ]
     },
     "metadata": {},
     "output_type": "display_data"
    },
    {
     "name": "stdout",
     "output_type": "stream",
     "text": [
      "Notice that you are using parameters: mode=overall and adaptive=True\n",
      "Model is saved without defined name\n",
      "Start adaptive training for all the samples\n",
      "Adaptive stage is done\n"
     ]
    }
   ],
   "source": [
    "sigm, tape_pred = Deconvolution('GSE67835.h5ad', expr.T,\n",
    "                             adaptive=True,mode='overall')"
   ]
  },
  {
   "cell_type": "code",
   "execution_count": 5,
   "id": "5c490409",
   "metadata": {},
   "outputs": [
    {
     "data": {
      "text/html": [
       "<div>\n",
       "<style scoped>\n",
       "    .dataframe tbody tr th:only-of-type {\n",
       "        vertical-align: middle;\n",
       "    }\n",
       "\n",
       "    .dataframe tbody tr th {\n",
       "        vertical-align: top;\n",
       "    }\n",
       "\n",
       "    .dataframe thead th {\n",
       "        text-align: right;\n",
       "    }\n",
       "</style>\n",
       "<table border=\"1\" class=\"dataframe\">\n",
       "  <thead>\n",
       "    <tr style=\"text-align: right;\">\n",
       "      <th></th>\n",
       "      <th>A1BG</th>\n",
       "      <th>A1BG-AS1</th>\n",
       "      <th>A2M</th>\n",
       "      <th>A2ML1</th>\n",
       "      <th>A4GALT</th>\n",
       "      <th>A4GNT</th>\n",
       "      <th>AAAS</th>\n",
       "      <th>AADACL2</th>\n",
       "      <th>AAGAB</th>\n",
       "      <th>AAK1</th>\n",
       "      <th>...</th>\n",
       "      <th>ZSCAN29</th>\n",
       "      <th>ZSCAN30</th>\n",
       "      <th>ZSCAN5A</th>\n",
       "      <th>ZSWIM1</th>\n",
       "      <th>ZSWIM7</th>\n",
       "      <th>ZWILCH</th>\n",
       "      <th>ZWINT</th>\n",
       "      <th>ZXDC</th>\n",
       "      <th>ZYX</th>\n",
       "      <th>ZZEF1</th>\n",
       "    </tr>\n",
       "  </thead>\n",
       "  <tbody>\n",
       "    <tr>\n",
       "      <th>Astrocytes</th>\n",
       "      <td>0.116086</td>\n",
       "      <td>0.192578</td>\n",
       "      <td>1.000000</td>\n",
       "      <td>1.000000</td>\n",
       "      <td>0.000000</td>\n",
       "      <td>0.000000</td>\n",
       "      <td>0.098717</td>\n",
       "      <td>0.019000</td>\n",
       "      <td>0.000000</td>\n",
       "      <td>0.647897</td>\n",
       "      <td>...</td>\n",
       "      <td>0.000000</td>\n",
       "      <td>0.298708</td>\n",
       "      <td>0.033580</td>\n",
       "      <td>0.910807</td>\n",
       "      <td>0.064151</td>\n",
       "      <td>0.065507</td>\n",
       "      <td>0.035769</td>\n",
       "      <td>0.000000</td>\n",
       "      <td>1.000000</td>\n",
       "      <td>0.555880</td>\n",
       "    </tr>\n",
       "    <tr>\n",
       "      <th>Endothelial</th>\n",
       "      <td>0.354475</td>\n",
       "      <td>0.000000</td>\n",
       "      <td>0.000000</td>\n",
       "      <td>0.013119</td>\n",
       "      <td>0.000000</td>\n",
       "      <td>0.047443</td>\n",
       "      <td>0.384443</td>\n",
       "      <td>0.000000</td>\n",
       "      <td>0.428742</td>\n",
       "      <td>0.531090</td>\n",
       "      <td>...</td>\n",
       "      <td>0.381969</td>\n",
       "      <td>0.000000</td>\n",
       "      <td>0.299320</td>\n",
       "      <td>0.000000</td>\n",
       "      <td>0.410641</td>\n",
       "      <td>0.000000</td>\n",
       "      <td>0.370409</td>\n",
       "      <td>0.461387</td>\n",
       "      <td>0.000000</td>\n",
       "      <td>0.487605</td>\n",
       "    </tr>\n",
       "    <tr>\n",
       "      <th>ExNeurons</th>\n",
       "      <td>0.764097</td>\n",
       "      <td>0.109428</td>\n",
       "      <td>0.112355</td>\n",
       "      <td>0.100547</td>\n",
       "      <td>0.000000</td>\n",
       "      <td>0.240403</td>\n",
       "      <td>0.749772</td>\n",
       "      <td>0.000000</td>\n",
       "      <td>0.179087</td>\n",
       "      <td>0.914701</td>\n",
       "      <td>...</td>\n",
       "      <td>0.300352</td>\n",
       "      <td>0.000000</td>\n",
       "      <td>0.633534</td>\n",
       "      <td>0.000000</td>\n",
       "      <td>0.420553</td>\n",
       "      <td>0.000000</td>\n",
       "      <td>0.319470</td>\n",
       "      <td>0.000000</td>\n",
       "      <td>0.000000</td>\n",
       "      <td>0.756819</td>\n",
       "    </tr>\n",
       "    <tr>\n",
       "      <th>InNeurons</th>\n",
       "      <td>0.888733</td>\n",
       "      <td>0.410464</td>\n",
       "      <td>0.798031</td>\n",
       "      <td>0.103443</td>\n",
       "      <td>0.000000</td>\n",
       "      <td>0.000000</td>\n",
       "      <td>0.000000</td>\n",
       "      <td>0.058227</td>\n",
       "      <td>0.000000</td>\n",
       "      <td>1.000000</td>\n",
       "      <td>...</td>\n",
       "      <td>0.000000</td>\n",
       "      <td>0.000000</td>\n",
       "      <td>0.424418</td>\n",
       "      <td>0.686307</td>\n",
       "      <td>0.000000</td>\n",
       "      <td>0.000000</td>\n",
       "      <td>0.000000</td>\n",
       "      <td>0.000000</td>\n",
       "      <td>0.674736</td>\n",
       "      <td>0.467201</td>\n",
       "    </tr>\n",
       "    <tr>\n",
       "      <th>Microglia</th>\n",
       "      <td>0.365524</td>\n",
       "      <td>0.191780</td>\n",
       "      <td>1.000000</td>\n",
       "      <td>0.476977</td>\n",
       "      <td>0.000000</td>\n",
       "      <td>0.000000</td>\n",
       "      <td>0.522927</td>\n",
       "      <td>0.017788</td>\n",
       "      <td>0.652580</td>\n",
       "      <td>0.850629</td>\n",
       "      <td>...</td>\n",
       "      <td>0.463258</td>\n",
       "      <td>0.525845</td>\n",
       "      <td>0.147845</td>\n",
       "      <td>0.514416</td>\n",
       "      <td>0.504133</td>\n",
       "      <td>0.622770</td>\n",
       "      <td>0.643430</td>\n",
       "      <td>0.753193</td>\n",
       "      <td>0.652387</td>\n",
       "      <td>0.623695</td>\n",
       "    </tr>\n",
       "    <tr>\n",
       "      <th>OPC</th>\n",
       "      <td>0.397245</td>\n",
       "      <td>0.160481</td>\n",
       "      <td>0.947518</td>\n",
       "      <td>0.495210</td>\n",
       "      <td>0.000000</td>\n",
       "      <td>0.000000</td>\n",
       "      <td>0.707954</td>\n",
       "      <td>0.000000</td>\n",
       "      <td>0.571469</td>\n",
       "      <td>0.809730</td>\n",
       "      <td>...</td>\n",
       "      <td>0.543277</td>\n",
       "      <td>0.568738</td>\n",
       "      <td>0.424077</td>\n",
       "      <td>0.595440</td>\n",
       "      <td>0.596479</td>\n",
       "      <td>0.546749</td>\n",
       "      <td>0.698122</td>\n",
       "      <td>0.756217</td>\n",
       "      <td>0.608064</td>\n",
       "      <td>0.640426</td>\n",
       "    </tr>\n",
       "    <tr>\n",
       "      <th>Oligodendrocytes</th>\n",
       "      <td>0.000000</td>\n",
       "      <td>0.228270</td>\n",
       "      <td>0.922021</td>\n",
       "      <td>0.441627</td>\n",
       "      <td>0.166493</td>\n",
       "      <td>0.000000</td>\n",
       "      <td>0.000000</td>\n",
       "      <td>0.153833</td>\n",
       "      <td>0.000000</td>\n",
       "      <td>0.000000</td>\n",
       "      <td>...</td>\n",
       "      <td>0.000000</td>\n",
       "      <td>0.906126</td>\n",
       "      <td>0.000000</td>\n",
       "      <td>0.627173</td>\n",
       "      <td>0.000000</td>\n",
       "      <td>0.838749</td>\n",
       "      <td>0.000000</td>\n",
       "      <td>0.000000</td>\n",
       "      <td>0.799992</td>\n",
       "      <td>0.000000</td>\n",
       "    </tr>\n",
       "    <tr>\n",
       "      <th>Unknown</th>\n",
       "      <td>0.478878</td>\n",
       "      <td>0.132406</td>\n",
       "      <td>1.000000</td>\n",
       "      <td>0.445902</td>\n",
       "      <td>0.000000</td>\n",
       "      <td>0.044332</td>\n",
       "      <td>0.613491</td>\n",
       "      <td>0.000000</td>\n",
       "      <td>0.596544</td>\n",
       "      <td>0.759030</td>\n",
       "      <td>...</td>\n",
       "      <td>0.607344</td>\n",
       "      <td>0.307297</td>\n",
       "      <td>0.318728</td>\n",
       "      <td>0.468780</td>\n",
       "      <td>0.679628</td>\n",
       "      <td>0.613408</td>\n",
       "      <td>1.000000</td>\n",
       "      <td>0.805923</td>\n",
       "      <td>0.454254</td>\n",
       "      <td>0.732862</td>\n",
       "    </tr>\n",
       "  </tbody>\n",
       "</table>\n",
       "<p>8 rows × 11417 columns</p>\n",
       "</div>"
      ],
      "text/plain": [
       "                      A1BG  A1BG-AS1       A2M     A2ML1    A4GALT     A4GNT  \\\n",
       "Astrocytes        0.116086  0.192578  1.000000  1.000000  0.000000  0.000000   \n",
       "Endothelial       0.354475  0.000000  0.000000  0.013119  0.000000  0.047443   \n",
       "ExNeurons         0.764097  0.109428  0.112355  0.100547  0.000000  0.240403   \n",
       "InNeurons         0.888733  0.410464  0.798031  0.103443  0.000000  0.000000   \n",
       "Microglia         0.365524  0.191780  1.000000  0.476977  0.000000  0.000000   \n",
       "OPC               0.397245  0.160481  0.947518  0.495210  0.000000  0.000000   \n",
       "Oligodendrocytes  0.000000  0.228270  0.922021  0.441627  0.166493  0.000000   \n",
       "Unknown           0.478878  0.132406  1.000000  0.445902  0.000000  0.044332   \n",
       "\n",
       "                      AAAS   AADACL2     AAGAB      AAK1  ...   ZSCAN29  \\\n",
       "Astrocytes        0.098717  0.019000  0.000000  0.647897  ...  0.000000   \n",
       "Endothelial       0.384443  0.000000  0.428742  0.531090  ...  0.381969   \n",
       "ExNeurons         0.749772  0.000000  0.179087  0.914701  ...  0.300352   \n",
       "InNeurons         0.000000  0.058227  0.000000  1.000000  ...  0.000000   \n",
       "Microglia         0.522927  0.017788  0.652580  0.850629  ...  0.463258   \n",
       "OPC               0.707954  0.000000  0.571469  0.809730  ...  0.543277   \n",
       "Oligodendrocytes  0.000000  0.153833  0.000000  0.000000  ...  0.000000   \n",
       "Unknown           0.613491  0.000000  0.596544  0.759030  ...  0.607344   \n",
       "\n",
       "                   ZSCAN30   ZSCAN5A    ZSWIM1    ZSWIM7    ZWILCH     ZWINT  \\\n",
       "Astrocytes        0.298708  0.033580  0.910807  0.064151  0.065507  0.035769   \n",
       "Endothelial       0.000000  0.299320  0.000000  0.410641  0.000000  0.370409   \n",
       "ExNeurons         0.000000  0.633534  0.000000  0.420553  0.000000  0.319470   \n",
       "InNeurons         0.000000  0.424418  0.686307  0.000000  0.000000  0.000000   \n",
       "Microglia         0.525845  0.147845  0.514416  0.504133  0.622770  0.643430   \n",
       "OPC               0.568738  0.424077  0.595440  0.596479  0.546749  0.698122   \n",
       "Oligodendrocytes  0.906126  0.000000  0.627173  0.000000  0.838749  0.000000   \n",
       "Unknown           0.307297  0.318728  0.468780  0.679628  0.613408  1.000000   \n",
       "\n",
       "                      ZXDC       ZYX     ZZEF1  \n",
       "Astrocytes        0.000000  1.000000  0.555880  \n",
       "Endothelial       0.461387  0.000000  0.487605  \n",
       "ExNeurons         0.000000  0.000000  0.756819  \n",
       "InNeurons         0.000000  0.674736  0.467201  \n",
       "Microglia         0.753193  0.652387  0.623695  \n",
       "OPC               0.756217  0.608064  0.640426  \n",
       "Oligodendrocytes  0.000000  0.799992  0.000000  \n",
       "Unknown           0.805923  0.454254  0.732862  \n",
       "\n",
       "[8 rows x 11417 columns]"
      ]
     },
     "execution_count": 5,
     "metadata": {},
     "output_type": "execute_result"
    }
   ],
   "source": [
    "_.to_csv('')"
   ]
  },
  {
   "cell_type": "code",
   "execution_count": 4,
   "id": "e9810066",
   "metadata": {},
   "outputs": [
    {
     "name": "stdout",
     "output_type": "stream",
     "text": [
      "Reading single-cell dataset, this may take 1 min\n",
      "Reading dataset is done\n",
      "Generating random cell fractions for each pseudo-bulk sample\n",
      "Generating cell frations is done\n",
      "Sampling cells to compose pseudo-bulk data\n"
     ]
    },
    {
     "name": "stderr",
     "output_type": "stream",
     "text": [
      "5000it [00:25, 194.24it/s]\n"
     ]
    },
    {
     "name": "stdout",
     "output_type": "stream",
     "text": [
      "Sampling is done\n",
      "Reading training data\n",
      "Reading is done\n",
      "Reading test data\n",
      "Reading test data is done\n",
      "Using counts data to train model\n",
      "Variance Cutoff\n",
      "Find intersected genes\n",
      "Intersected gene number is  11417\n",
      "Log2 & MinMax scale\n",
      "training data shape is  (5000, 11417) \n",
      "test data shape is  (639, 11417)\n",
      "train model256 now\n"
     ]
    },
    {
     "name": "stderr",
     "output_type": "stream",
     "text": [
      "100%|██████████| 128/128 [00:33<00:00,  3.78it/s]\n"
     ]
    },
    {
     "name": "stdout",
     "output_type": "stream",
     "text": [
      "train model512 now\n"
     ]
    },
    {
     "name": "stderr",
     "output_type": "stream",
     "text": [
      "100%|██████████| 128/128 [00:35<00:00,  3.59it/s]\n"
     ]
    },
    {
     "name": "stdout",
     "output_type": "stream",
     "text": [
      "train model1024 now\n"
     ]
    },
    {
     "name": "stderr",
     "output_type": "stream",
     "text": [
      "100%|██████████| 128/128 [00:39<00:00,  3.23it/s]"
     ]
    },
    {
     "name": "stdout",
     "output_type": "stream",
     "text": [
      "Training of Scaden is done\n"
     ]
    },
    {
     "name": "stderr",
     "output_type": "stream",
     "text": [
      "\n"
     ]
    }
   ],
   "source": [
    "scaden_pred = ScadenDeconvolution('../ref/humanbrain_ref.txt', expr.T)"
   ]
  },
  {
   "cell_type": "code",
   "execution_count": 8,
   "id": "b1aaf930",
   "metadata": {},
   "outputs": [],
   "source": [
    "scaden_pred.to_csv('ROSMAPpred_scaden.csv')"
   ]
  },
  {
   "cell_type": "code",
   "execution_count": 9,
   "id": "f199dbbe",
   "metadata": {},
   "outputs": [],
   "source": [
    "tape_pred.to_csv('ROSMAPpred_tape.csv')"
   ]
  },
  {
   "cell_type": "code",
   "execution_count": null,
   "id": "79dbe2ad",
   "metadata": {},
   "outputs": [],
   "source": []
  }
 ],
 "metadata": {
  "kernelspec": {
   "display_name": "Python 3",
   "language": "python",
   "name": "python3"
  },
  "language_info": {
   "codemirror_mode": {
    "name": "ipython",
    "version": 3
   },
   "file_extension": ".py",
   "mimetype": "text/x-python",
   "name": "python",
   "nbconvert_exporter": "python",
   "pygments_lexer": "ipython3",
   "version": "3.7.10"
  }
 },
 "nbformat": 4,
 "nbformat_minor": 5
}
