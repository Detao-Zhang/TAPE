{
 "cells": [
  {
   "cell_type": "code",
   "execution_count": 2,
   "id": "c18852a7",
   "metadata": {},
   "outputs": [],
   "source": [
    "import numpy as np\n",
    "import pandas as pd\n",
    "import seaborn as sns\n",
    "import matplotlib.pyplot as plt"
   ]
  },
  {
   "cell_type": "code",
   "execution_count": 3,
   "id": "ab2f6bfc",
   "metadata": {},
   "outputs": [],
   "source": [
    "sns.set_context(\"paper\")"
   ]
  },
  {
   "cell_type": "code",
   "execution_count": 4,
   "id": "20d1c774",
   "metadata": {},
   "outputs": [],
   "source": [
    "pbmc = pd.read_csv('COVID_pbmc_data.csv',index_col=0)"
   ]
  },
  {
   "cell_type": "code",
   "execution_count": 5,
   "id": "4425df3f",
   "metadata": {},
   "outputs": [],
   "source": [
    "tape = pd.read_csv('COVIDisletpred_tape.csv',index_col=0)\n",
    "scaden = pd.read_csv('COVIDisletpred_scaden.csv',index_col=0)\n",
    "csx = pd.read_csv('COVIDisletpred_csx.csv',index_col=0)\n",
    "music = pd.read_csv('COVIDisletpred_music.csv',index_col=0)\n",
    "rnasieve = pd.read_csv('COVIDisletpred_rnasieve.csv',index_col=0)\n",
    "dwls = pd.read_csv('COVIDisletpred_dwls.txt',sep='\\t',index_col=0)\n",
    "bisque = pd.read_csv('COVIDisletpred_bisque.csv',index_col=0).T\n",
    "tape['sample'] = ['normal_culture','normal_culture',\n",
    "                  'covid19_infection', 'covid19_infection',\n",
    "                  'infection+Remdesivir', 'infection+Remdesivir']\n",
    "scaden['sample'] = ['normal_culture','normal_culture',\n",
    "                    'covid19_infection', 'covid19_infection',\n",
    "                    'infection+Remdesivir', 'infection+Remdesivir']\n",
    "csx['sample'] = ['normal_culture','normal_culture',\n",
    "                 'covid19_infection', 'covid19_infection',\n",
    "                 'infection+Remdesivir', 'infection+Remdesivir']\n",
    "rnasieve['sample'] = ['normal_culture','normal_culture',\n",
    "                      'covid19_infection', 'covid19_infection',\n",
    "                      'infection+Remdesivir', 'infection+Remdesivir']\n",
    "music['sample'] = ['normal_culture','normal_culture',\n",
    "                   'covid19_infection', 'covid19_infection',\n",
    "                   'infection+Remdesivir', 'infection+Remdesivir']\n",
    "dwls['sample'] = ['normal_culture','normal_culture',\n",
    "                  'covid19_infection', 'covid19_infection',\n",
    "                  'infection+Remdesivir', 'infection+Remdesivir']\n",
    "bisque['sample'] = ['normal_culture','normal_culture',\n",
    "                  'covid19_infection', 'covid19_infection',\n",
    "                  'infection+Remdesivir', 'infection+Remdesivir']\n",
    "tape['model'] = ['TAPE' for i in range(len(tape))]\n",
    "scaden['model'] = ['Scaden' for i in range(len(tape))]\n",
    "rnasieve['model'] = ['RNAsieve' for i in range(len(tape))]\n",
    "csx['model'] = ['CIBERSORTx' for i in range(len(tape))]\n",
    "music['model'] = ['MuSiC' for i in range(len(tape))]\n",
    "dwls['model'] = ['DWLS' for i in range(len(tape))]\n",
    "bisque['model'] = ['Bisque' for i in range(len(tape))]\n",
    "data = pd.concat([tape,scaden,rnasieve,csx,dwls,music,bisque])"
   ]
  },
  {
   "cell_type": "code",
   "execution_count": 7,
   "id": "6919ce61",
   "metadata": {},
   "outputs": [],
   "source": [
    "# colors = sns.color_palette('colorblind',5)\n",
    "# fig,axes = plt.subplots(1,2,figsize=(10,4))\n",
    "\n",
    "# sns.lineplot(x='sample',y='beta',hue='model',\n",
    "#              data=data,palette='colorblind',\n",
    "#              ax=axes[0],\n",
    "#              ci=60)\n",
    "# sns.lineplot(data=pbmc,x='Type',y='MLR',hue='model',\n",
    "#              ax=axes[1],\n",
    "#              ci=60,palette='colorblind')\n",
    "# axes[0].spines['top'].set_visible(False)\n",
    "# axes[0].spines['right'].set_visible(False)\n",
    "# axes[0].get_legend().set_visible(False)\n",
    "# axes[1].spines['top'].set_visible(False)\n",
    "# axes[1].spines['right'].set_visible(False)\n",
    "# axes[1].get_legend().set_visible(False)\n",
    "# handles, labels = axes[1].get_legend_handles_labels()\n",
    "# fig.legend(handles, labels, loc='upper right')\n",
    "# #fig.subplots_adjust(left=None, bottom=None, right=None, top=None,wspace=None, hspace=None)\n",
    "# plt.tight_layout()\n",
    "# plt.show()"
   ]
  },
  {
   "cell_type": "code",
   "execution_count": 6,
   "id": "bd9f77ef",
   "metadata": {},
   "outputs": [],
   "source": [
    "colors = sns.color_palette('Blues',3)"
   ]
  },
  {
   "cell_type": "code",
   "execution_count": 7,
   "id": "8df4e57a",
   "metadata": {},
   "outputs": [
    {
     "name": "stderr",
     "output_type": "stream",
     "text": [
      "The PostScript backend does not support transparency; partially transparent artists will be rendered opaque.\n",
      "The PostScript backend does not support transparency; partially transparent artists will be rendered opaque.\n"
     ]
    },
    {
     "data": {
      "image/png": "[encoded data removed]",
      "text/plain": [
       "<Figure size 432x288 with 1 Axes>"
      ]
     },
     "metadata": {
      "needs_background": "light"
     },
     "output_type": "display_data"
    }
   ],
   "source": [
    "fig,ax = plt.subplots(figsize=(6,4))\n",
    "sns.barplot(data=data,x='model',y='beta',hue='sample',ci=0,\n",
    "            palette={'normal_culture':colors[0],\n",
    "                     'covid19_infection':colors[2],\n",
    "                     'infection+Remdesivir':colors[0]})\n",
    "ax.spines['top'].set_visible(False)\n",
    "ax.spines['right'].set_visible(False)\n",
    "plt.tight_layout()\n",
    "fig.savefig('islet.eps',format='eps',dpi=300)\n",
    "plt.show()"
   ]
  },
  {
   "cell_type": "code",
   "execution_count": 8,
   "id": "57edde72",
   "metadata": {},
   "outputs": [],
   "source": []
  },
  {
   "cell_type": "code",
   "execution_count": null,
   "id": "ec695b2a",
   "metadata": {},
   "outputs": [],
   "source": []
  }
 ],
 "metadata": {
  "kernelspec": {
   "display_name": "Python 3",
   "language": "python",
   "name": "python3"
  },
  "language_info": {
   "codemirror_mode": {
    "name": "ipython",
    "version": 3
   },
   "file_extension": ".py",
   "mimetype": "text/x-python",
   "name": "python",
   "nbconvert_exporter": "python",
   "pygments_lexer": "ipython3",
   "version": "3.7.10"
  }
 },
 "nbformat": 4,
 "nbformat_minor": 5
}
