{
 "cells": [
  {
   "cell_type": "code",
   "execution_count": 1,
   "id": "aa36c8c3",
   "metadata": {},
   "outputs": [],
   "source": [
    "from tqdm import tqdm\n",
    "import numpy as np\n",
    "import pandas as pd\n",
    "import anndata\n",
    "from anndata import read_h5ad\n",
    "import warnings\n",
    "import time\n",
    "warnings.filterwarnings(\"ignore\")\n",
    "import torch\n",
    "import math\n",
    "import random\n",
    "import torch.nn as nn\n",
    "from torch.utils.data import Dataset, DataLoader\n",
    "import torch.nn.functional as F\n",
    "import seaborn as sns\n",
    "import matplotlib.pyplot as plt\n",
    "from sklearn.preprocessing import MinMaxScaler\n",
    "device = torch.device(\"cuda\" if torch.cuda.is_available() else \"cpu\")"
   ]
  },
  {
   "cell_type": "code",
   "execution_count": 2,
   "id": "dd87129a",
   "metadata": {},
   "outputs": [],
   "source": [
    "class simdatset(Dataset):\n",
    "    def __init__(self, X, Y):\n",
    "        self.X = X\n",
    "        self.Y = Y\n",
    "\n",
    "    def __len__(self):\n",
    "        return len(self.X)\n",
    "\n",
    "    def __getitem__(self, index):\n",
    "        x = torch.from_numpy(self.X[index]).float().to(device)\n",
    "        y = torch.from_numpy(self.Y[index]).float().to(device)\n",
    "        return x, y\n",
    "\n",
    "class AutoEncoder(nn.Module):\n",
    "    def __init__(self, input_dim, output_dim):\n",
    "        super().__init__()\n",
    "        self.name = 'ae'\n",
    "        self.inputdim = input_dim\n",
    "        self.outputdim = output_dim\n",
    "        self.encoder = nn.Sequential(nn.Dropout(),\n",
    "                                     nn.Linear(self.inputdim,512),\n",
    "                                     nn.CELU(),\n",
    "                                     nn.Dropout(),\n",
    "                                     nn.Linear(512,256),\n",
    "                                     nn.CELU(),\n",
    "                                     nn.Dropout(),\n",
    "                                     nn.Linear(256,128),\n",
    "                                     nn.CELU(),\n",
    "                                     nn.Dropout(),\n",
    "                                     nn.Linear(128,64),\n",
    "                                     nn.CELU(),\n",
    "                                     nn.Linear(64,output_dim),\n",
    "                                     nn.Hardtanh(0,1)\n",
    "                                     )\n",
    "        \n",
    "        self.decoder = nn.Sequential(nn.Linear(self.outputdim,64,bias=False),\n",
    "                                     nn.Linear(64,128,bias=False),\n",
    "                                     nn.Linear(128,256,bias=False),\n",
    "                                     nn.Linear(256,512,bias=False),\n",
    "                                     nn.Linear(512,self.inputdim,bias=False))\n",
    "        \n",
    "                                               \n",
    "    def encode(self,x):\n",
    "        return self.encoder(x)\n",
    "    \n",
    "    def decode(self,z):\n",
    "        return self.decoder(z)\n",
    "\n",
    "    def sigmatrix(self):\n",
    "        w0 = self.decoder[0].weight.T\n",
    "        w1 = self.decoder[1].weight.T\n",
    "        w2 = self.decoder[2].weight.T\n",
    "        w3 = self.decoder[3].weight.T\n",
    "        w4 = self.decoder[4].weight.T\n",
    "        w01 = torch.mm(w0,w1)\n",
    "        w02 = torch.mm(w01,w2)\n",
    "        w03 = torch.mm(w02,w3)\n",
    "        w04 = torch.mm(w03, w4)\n",
    "        return F.hardtanh(w04,0,1)\n",
    "\n",
    "    def forward(self, x):\n",
    "        sigmatrix = self.sigmatrix()\n",
    "        z = self.encode(x)\n",
    "        x_recon = torch.mm(z,sigmatrix)\n",
    "        return x_recon, z, sigmatrix\n",
    "\n",
    "\n",
    "\n",
    "def train(model, train_loader, optimizer, epochs=10):\n",
    "    model.train()\n",
    "    loss = []\n",
    "    recon_loss = []\n",
    "    for i in tqdm(range(epochs)):\n",
    "        for k, (data, label) in enumerate(train_loader):\n",
    "            optimizer.zero_grad()\n",
    "            x_recon, cell_prop, sigm = model(data)\n",
    "            batch_loss = F.l1_loss(cell_prop, label)+F.l1_loss(x_recon,data)\n",
    "            batch_loss.backward()\n",
    "            optimizer.step()\n",
    "            loss.append(F.l1_loss(cell_prop, label).cpu().detach().numpy())\n",
    "            recon_loss.append(F.l1_loss(x_recon, data).cpu().detach().numpy())\n",
    "\n",
    "    return model, loss, recon_loss\n",
    "\n",
    "\n",
    "\n",
    "def predict(model, data):\n",
    "    model.eval()\n",
    "    data = torch.from_numpy(data).float().to(device)\n",
    "    _, pred, sigmatrix = model(data)\n",
    "    pred = pred.cpu().detach().numpy()\n",
    "    sigmatrix = sigmatrix.cpu().detach().numpy()\n",
    "    return pred, sigmatrix\n",
    "\n",
    "\n",
    "def RMSEscore(pred, true):\n",
    "    return np.mean(np.abs(pred - true))\n",
    "\n",
    "\n",
    "def CCCscore(y_pred, y_true):\n",
    "    # pred: shape{n sample, m cell}\n",
    "    ccc_value = 0\n",
    "    for i in range(y_pred.shape[1]):\n",
    "        r = np.corrcoef(y_pred[:, i], y_true[:, i])[0, 1]\n",
    "        # print(r)\n",
    "        # Mean\n",
    "        mean_true = np.mean(y_true[:, i])\n",
    "        mean_pred = np.mean(y_pred[:, i])\n",
    "        # Variance\n",
    "        var_true = np.var(y_true[:, i])\n",
    "        var_pred = np.var(y_pred[:, i])\n",
    "        # Standard deviation\n",
    "        sd_true = np.std(y_true[:, i])\n",
    "        sd_pred = np.std(y_pred[:, i])\n",
    "        # Calculate CCC\n",
    "        numerator = 2 * r * sd_true * sd_pred\n",
    "        denominator = var_true + var_pred + (mean_true - mean_pred) ** 2\n",
    "        ccc = numerator / denominator\n",
    "        # print(ccc)\n",
    "        ccc_value += ccc\n",
    "    return ccc_value / y_pred.shape[1]\n",
    "\n",
    "def score(pred, label):\n",
    "    distance = []\n",
    "    ccc = []\n",
    "    new_pred = pred.reshape(-1,1)\n",
    "    new_label = label.reshape(-1,1)\n",
    "    distance.append(RMSEscore(new_pred, new_label))\n",
    "    ccc.append(CCCscore(new_pred, new_label))\n",
    "    print(distance[0], ccc[0])\n",
    "    return distance[0], ccc[0]\n",
    "\n",
    "def showloss(loss):\n",
    "    plt.figure()\n",
    "    plt.plot(loss)\n",
    "    plt.xlabel('iteration')\n",
    "    plt.ylabel('loss')\n",
    "    plt.show()\n",
    "            \n",
    "def reproducibility(seed=1):\n",
    "    torch.manual_seed(seed)\n",
    "    random.seed(seed)\n",
    "    np.random.seed(seed)\n",
    "    if torch.cuda.is_available():\n",
    "        torch.cuda.manual_seed_all(seed)\n",
    "        torch.backends.cudnn.deterministic = True\n",
    "def test_AE_function(train_x,train_y,test_x,test_y,batch_size=128):\n",
    "    reproducibility(seed=0)\n",
    "    train_loader = DataLoader(simdatset(train_x, train_y), batch_size=batch_size, shuffle=True)\n",
    "    model = AutoEncoder(train_x.shape[1], train_y.shape[1]).to(device)\n",
    "    optimizer = torch.optim.Adam(model.parameters(),lr=1e-4)\n",
    "    model, loss, reconloss = train(model, train_loader, optimizer, epochs=int(5000/(len(train_x)/batch_size)))\n",
    "    showloss(loss)\n",
    "    showloss(reconloss)\n",
    "    pred, train_sigm = predict(model, test_x)\n",
    "    #showloss(loss)\n",
    "    l1, ccc = score(pred,test_y)\n",
    "    #l1, ccc = score(test_pred,test_y)\n",
    "    return l1, ccc\n",
    "def test_scaden_function(train_x,train_y,test_x,test_y,batch_size=128):\n",
    "    reproducibility(seed=0)\n",
    "    architectures = {'m256': ([256,128,64,32],[0,0,0,0]),\n",
    "                     'm512': ([512,256,128,64],[0, 0.3, 0.2, 0.1]),\n",
    "                     'm1024': ([1024, 512, 256, 128],[0, 0.6, 0.3, 0.1])}\n",
    "    model = scaden(architectures, train_x, train_y, epochs=int(5000/(len(train_x)/batch_size)))\n",
    "    st = time.time()\n",
    "    model.train()\n",
    "    pred = model.predict(test_x)\n",
    "    ed = time.time()\n",
    "    l1, ccc = score(pred,test_y)\n",
    "    return l1, ccc"
   ]
  },
  {
   "cell_type": "code",
   "execution_count": 3,
   "id": "9de7cc6b",
   "metadata": {},
   "outputs": [],
   "source": [
    "class MLP(nn.Module):\n",
    "    def __init__(self, input_dim, output_dim, hidden_units, dropout_rates):\n",
    "        super().__init__()\n",
    "        self.hidden_units = hidden_units\n",
    "        self.dropout_rates = dropout_rates\n",
    "        self.input_dim = input_dim\n",
    "        self.output_dim = output_dim\n",
    "        self.model = self._mlp()\n",
    "\n",
    "    def forward(self,x):\n",
    "        # x: (n sample, m gene)\n",
    "        # output: (n sample, k cell proportions)\n",
    "        return self.model(x)\n",
    "\n",
    "    def _mlp(self):\n",
    "        mlp = nn.Sequential(nn.Linear(self.input_dim,self.hidden_units[0]),\n",
    "                            nn.Dropout(self.dropout_rates[0]),\n",
    "                            nn.ReLU(),\n",
    "                            nn.Linear(self.hidden_units[0], self.hidden_units[1]),\n",
    "                            nn.Dropout(self.dropout_rates[1]),\n",
    "                            nn.ReLU(),\n",
    "                            nn.Linear(self.hidden_units[1], self.hidden_units[2]),\n",
    "                            nn.Dropout(self.dropout_rates[2]),\n",
    "                            nn.ReLU(),\n",
    "                            nn.Linear(self.hidden_units[2], self.hidden_units[3]),\n",
    "                            nn.Dropout(self.dropout_rates[3]),\n",
    "                            nn.ReLU(),\n",
    "                            nn.Linear(self.hidden_units[3], self.output_dim),\n",
    "                            nn.Softmax(dim=1)\n",
    "                            )\n",
    "        return mlp\n",
    "def initialize_weight(m):\n",
    "    if isinstance(m, nn.Linear):\n",
    "        nn.init.xavier_uniform_(m.weight.data)\n",
    "        nn.init.constant_(m.bias.data,0)\n",
    "class scaden():\n",
    "    def __init__(self, architectures, train_x, train_y, lr=1e-4, batch_size=128, epochs=20):\n",
    "        self.architectures = architectures\n",
    "        self.model512 = None\n",
    "        self.model256 = None\n",
    "        self.model1024 = None\n",
    "        self.lr = lr\n",
    "        self.batch_size = batch_size\n",
    "        self.epochs = epochs\n",
    "        self.inputdim = train_x.shape[1]\n",
    "        self.outputdim = train_y.shape[1]\n",
    "        self.train_loader = DataLoader(simdatset(train_x, train_y), batch_size=batch_size, shuffle=True)\n",
    "\n",
    "\n",
    "    def _subtrain(self, model, optimizer):\n",
    "        model.train()\n",
    "        i = 0\n",
    "        loss = []\n",
    "        for i in tqdm(range(self.epochs)):\n",
    "            for data, label in self.train_loader:\n",
    "                optimizer.zero_grad()\n",
    "                batch_loss = F.l1_loss(model(data), label)\n",
    "                batch_loss.backward()\n",
    "                optimizer.step()\n",
    "                loss.append(batch_loss.cpu().detach().numpy())\n",
    "        return model, loss\n",
    "    \n",
    "    def showloss(self, loss):\n",
    "        plt.figure()\n",
    "        plt.plot(loss)\n",
    "        plt.xlabel('iteration')\n",
    "        plt.ylabel('loss')\n",
    "        plt.show()\n",
    "        \n",
    "    def train(self, mode='all'):\n",
    "        if mode=='all':\n",
    "            ##### train\n",
    "            self.build_model()\n",
    "            optimizer = torch.optim.Adam(self.model256.parameters(), lr=self.lr, eps=1e-07)\n",
    "            print('train model256 now')\n",
    "            self.model256, loss = self._subtrain(self.model256, optimizer)\n",
    "            #self.showloss(loss)\n",
    "            optimizer = torch.optim.Adam(self.model512.parameters(), lr=self.lr, eps=1e-07)\n",
    "            print('train model512 now')\n",
    "            self.model512, loss = self._subtrain(self.model512, optimizer)\n",
    "            #self.showloss(loss)\n",
    "            optimizer = torch.optim.Adam(self.model1024.parameters(), lr=self.lr, eps=1e-07)\n",
    "            print('train model1024 now')\n",
    "            self.model1024, loss = self._subtrain(self.model1024, optimizer)\n",
    "            #self.showloss(loss)\n",
    "\n",
    "\n",
    "\n",
    "    def build_model(self,mode='all'):\n",
    "        if mode=='all':\n",
    "            self.model256 = MLP(self.inputdim, self.outputdim, self.architectures['m256'][0], self.architectures['m256'][1])\n",
    "            self.model512 = MLP(self.inputdim, self.outputdim, self.architectures['m512'][0], self.architectures['m512'][1])\n",
    "            self.model1024 = MLP(self.inputdim, self.outputdim, self.architectures['m1024'][0],self.architectures['m1024'][1])\n",
    "            self.model1024 = self.model1024.to(device)\n",
    "            self.model512 = self.model512.to(device)\n",
    "            self.model256 = self.model256.to(device)\n",
    "            self.model256.apply(initialize_weight)\n",
    "            self.model512.apply(initialize_weight)\n",
    "            self.model1024.apply(initialize_weight)\n",
    "            \n",
    "    def predict(self, test_x, mode='all'):\n",
    "        test_x = torch.from_numpy(test_x).to(device).float()\n",
    "        if mode == 'all':\n",
    "            self.model256.eval()\n",
    "            self.model512.eval()\n",
    "            self.model1024.eval()\n",
    "        if mode == 'all':\n",
    "            pred = (self.model256(test_x) + self.model512(test_x) + self.model1024(test_x)) / 3\n",
    "        return pred.cpu().detach().numpy()\n"
   ]
  },
  {
   "cell_type": "code",
   "execution_count": 4,
   "id": "3799e267",
   "metadata": {},
   "outputs": [],
   "source": [
    "trainingset = ['Liver','Kidney','Lung','Skin','Thymus']\n",
    "tissue = 'thymus'\n",
    "training_data = read_h5ad(\"../mouse_atlas/Tabular Muris/Thymus.h5ad\")\n",
    "data = pd.DataFrame(training_data.X,columns=training_data.var.index)\n",
    "label = training_data.obs\n",
    "label.index = range(len(label))\n",
    "data.index = range(len(data))"
   ]
  },
  {
   "cell_type": "code",
   "execution_count": 5,
   "id": "5a704ed9",
   "metadata": {},
   "outputs": [],
   "source": [
    "# 5-fold train_test_split\n",
    "from sklearn.model_selection import KFold\n",
    "kfold = KFold(n_splits=5,shuffle=True,random_state=0).split(data,label)"
   ]
  },
  {
   "cell_type": "code",
   "execution_count": 6,
   "id": "88093921",
   "metadata": {},
   "outputs": [],
   "source": [
    "# for k, (trainindex, testindex) in enumerate(kfold):\n",
    "#     print(k)\n",
    "#     reproducibility(seed=0)\n",
    "#     train_x = data.loc[trainindex].values\n",
    "#     train_y = label.loc[trainindex].values\n",
    "    \n",
    "#     test_x = data.loc[testindex]\n",
    "#     genename = test_x.columns\n",
    "#     test_x = test_x.values\n",
    "#     test_y = label.loc[testindex]\n",
    "#     noise = np.random.normal(test_x.mean(axis=0),test_x.std(axis=0),size=test_x.shape)\n",
    "#     test_x = test_x + np.abs(1e-2*noise)\n",
    "\n",
    "#     for i in range(test_x.shape[0]):\n",
    "#         indices = np.random.choice(np.arange(test_x.shape[1]), replace=False, size=int(test_x.shape[1] * 0.2))\n",
    "#         test_x[i,indices] = 0 \n",
    "    \n",
    "#     test_x = pd.DataFrame(test_x,columns=genename)\n",
    "#     test_x.T.to_csv(\"csx/\"+tissue+\"_\"+str(k)+\"_noise_csx.txt\",sep='\\t')\n",
    "#     test_x.to_csv(\"rnasieve/\"+tissue+\"_\"+str(k)+\"_noise_rs.csv\")\n",
    "#     #test_y.to_csv(\"groundtruth/\"+tissue+\"_\"+str(k)+\"_fractions.csv\")"
   ]
  },
  {
   "cell_type": "code",
   "execution_count": 7,
   "id": "0ec87afb",
   "metadata": {
    "scrolled": false
   },
   "outputs": [
    {
     "name": "stdout",
     "output_type": "stream",
     "text": [
      "0\n"
     ]
    },
    {
     "name": "stderr",
     "output_type": "stream",
     "text": [
      "100%|██████████| 200/200 [00:56<00:00,  3.54it/s]\n"
     ]
    },
    {
     "data": {
      "image/png": "[encoded data removed]",
      "text/plain": [
       "<Figure size 432x288 with 1 Axes>"
      ]
     },
     "metadata": {
      "needs_background": "light"
     },
     "output_type": "display_data"
    },
    {
     "data": {
      "image/png": "[encoded data removed]",
      "text/plain": [
       "<Figure size 432x288 with 1 Axes>"
      ]
     },
     "metadata": {
      "needs_background": "light"
     },
     "output_type": "display_data"
    },
    {
     "name": "stdout",
     "output_type": "stream",
     "text": [
      "0.043156190155614234 0.9479060423833698\n",
      "0.043156190155614234 0.9479060423833698\n",
      "1\n"
     ]
    },
    {
     "name": "stderr",
     "output_type": "stream",
     "text": [
      "100%|██████████| 200/200 [00:56<00:00,  3.56it/s]\n"
     ]
    },
    {
     "data": {
      "image/png": "[encoded data removed]",
      "text/plain": [
       "<Figure size 432x288 with 1 Axes>"
      ]
     },
     "metadata": {
      "needs_background": "light"
     },
     "output_type": "display_data"
    },
    {
     "data": {
      "image/png": "[encoded data removed]",
      "text/plain": [
       "<Figure size 432x288 with 1 Axes>"
      ]
     },
     "metadata": {
      "needs_background": "light"
     },
     "output_type": "display_data"
    },
    {
     "name": "stdout",
     "output_type": "stream",
     "text": [
      "0.039543698657855585 0.9573680828784894\n",
      "0.039543698657855585 0.9573680828784894\n",
      "2\n"
     ]
    },
    {
     "name": "stderr",
     "output_type": "stream",
     "text": [
      "100%|██████████| 200/200 [00:55<00:00,  3.59it/s]\n"
     ]
    },
    {
     "data": {
      "image/png": "[encoded data removed]",
      "text/plain": [
       "<Figure size 432x288 with 1 Axes>"
      ]
     },
     "metadata": {
      "needs_background": "light"
     },
     "output_type": "display_data"
    },
    {
     "data": {
      "image/png": "[encoded data removed]",
      "text/plain": [
       "<Figure size 432x288 with 1 Axes>"
      ]
     },
     "metadata": {
      "needs_background": "light"
     },
     "output_type": "display_data"
    },
    {
     "name": "stdout",
     "output_type": "stream",
     "text": [
      "0.03552952621453193 0.9658276495807274\n",
      "0.03552952621453193 0.9658276495807274\n",
      "3\n"
     ]
    },
    {
     "name": "stderr",
     "output_type": "stream",
     "text": [
      "100%|██████████| 200/200 [00:56<00:00,  3.53it/s]\n"
     ]
    },
    {
     "data": {
      "image/png": "[encoded data removed]",
      "text/plain": [
       "<Figure size 432x288 with 1 Axes>"
      ]
     },
     "metadata": {
      "needs_background": "light"
     },
     "output_type": "display_data"
    },
    {
     "data": {
      "image/png": "[encoded data removed]",
      "text/plain": [
       "<Figure size 432x288 with 1 Axes>"
      ]
     },
     "metadata": {
      "needs_background": "light"
     },
     "output_type": "display_data"
    },
    {
     "name": "stdout",
     "output_type": "stream",
     "text": [
      "0.039001477780313674 0.9592755939897097\n",
      "0.039001477780313674 0.9592755939897097\n",
      "4\n"
     ]
    },
    {
     "name": "stderr",
     "output_type": "stream",
     "text": [
      "100%|██████████| 200/200 [00:55<00:00,  3.59it/s]\n"
     ]
    },
    {
     "data": {
      "image/png": "[encoded data removed]",
      "text/plain": [
       "<Figure size 432x288 with 1 Axes>"
      ]
     },
     "metadata": {
      "needs_background": "light"
     },
     "output_type": "display_data"
    },
    {
     "data": {
      "image/png": "[encoded data removed]",
      "text/plain": [
       "<Figure size 432x288 with 1 Axes>"
      ]
     },
     "metadata": {
      "needs_background": "light"
     },
     "output_type": "display_data"
    },
    {
     "name": "stdout",
     "output_type": "stream",
     "text": [
      "0.03797835561783436 0.9565950003291451\n",
      "0.03797835561783436 0.9565950003291451\n",
      "0.03904184968522996 0.9573944738322883\n"
     ]
    }
   ],
   "source": [
    "### GAUSSIAN NOISE on test data, guassian distribution along each gene\n",
    "L1 = []\n",
    "CCC = []\n",
    "for k, (trainindex, testindex) in enumerate(kfold):\n",
    "    print(k)\n",
    "    reproducibility(seed=0)\n",
    "    train_x = data.loc[trainindex].values\n",
    "    train_y = label.loc[trainindex].values\n",
    "\n",
    "    test_x = data.loc[testindex].values\n",
    "    test_y = label.loc[testindex].values\n",
    "    \n",
    "    noise = np.random.normal(test_x.mean(axis=0),test_x.std(axis=0),size=test_x.shape)\n",
    "    test_x = test_x + np.abs(1e-2*noise)\n",
    "\n",
    "    for i in range(test_x.shape[0]):\n",
    "        indices = np.random.choice(np.arange(test_x.shape[1]), replace=False, size=int(test_x.shape[1] * 0.2))\n",
    "        test_x[i,indices] = 0 \n",
    "    \n",
    "    train_x = np.log2(train_x + 1)\n",
    "    test_x = np.log2(test_x + 1)\n",
    "    mms = MinMaxScaler()\n",
    "    test_x = mms.fit_transform(test_x.T)\n",
    "    test_x = test_x.T\n",
    "    train_x = mms.fit_transform(train_x.T)\n",
    "    train_x = train_x.T\n",
    "    \n",
    "    a, b = test_AE_function(train_x,train_y,test_x,test_y)\n",
    "    print(a,b)\n",
    "    L1.append(a)\n",
    "    CCC.append(b)\n",
    "    \n",
    "print(sum(L1)/len(L1),sum(CCC)/len(CCC))"
   ]
  },
  {
   "cell_type": "code",
   "execution_count": null,
   "id": "9a5b3690",
   "metadata": {},
   "outputs": [],
   "source": []
  },
  {
   "cell_type": "code",
   "execution_count": 8,
   "id": "f621ac1c",
   "metadata": {},
   "outputs": [],
   "source": [
    "# sample-wise gaussian noise\n",
    "# use 20% dropout"
   ]
  },
  {
   "cell_type": "code",
   "execution_count": 9,
   "id": "b42ffdba",
   "metadata": {},
   "outputs": [],
   "source": [
    "# AE with noise\n",
    "# kidney 0.025821186108983308 0.949692368018454\n",
    "# liver 0.021139011414448173 0.9660086380540628\n",
    "# lung 0.019001137088528266 0.8627325056164004\n",
    "# skin 0.029307696042318455 0.9333488527347853\n",
    "# thymus 0.03904184968522996 0.9573944738322883"
   ]
  },
  {
   "cell_type": "code",
   "execution_count": 10,
   "id": "f96ba1be",
   "metadata": {},
   "outputs": [],
   "source": [
    "# scaden with noise\n",
    "# thymus 0.0478086862010355 0.9279420801423391\n",
    "# skin 0.031087418246519893 0.9204024241306639\n",
    "# lung 0.028904249837975033 0.6260784087148654\n",
    "# liver 0.028581994969314222 0.9319975334542505\n",
    "# kidney 0.03054704209210123 0.9209235104781615\n"
   ]
  }
 ],
 "metadata": {
  "kernelspec": {
   "display_name": "Python 3",
   "language": "python",
   "name": "python3"
  },
  "language_info": {
   "codemirror_mode": {
    "name": "ipython",
    "version": 3
   },
   "file_extension": ".py",
   "mimetype": "text/x-python",
   "name": "python",
   "nbconvert_exporter": "python",
   "pygments_lexer": "ipython3",
   "version": "3.7.10"
  }
 },
 "nbformat": 4,
 "nbformat_minor": 5
}
